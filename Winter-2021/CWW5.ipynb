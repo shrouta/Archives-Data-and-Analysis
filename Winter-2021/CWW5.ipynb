{
    "metadata": {
        "kernelspec": {
            "name": "ir",
            "display_name": "R",
            "language": "R"
        }
    },
    "nbformat": 4,
    "nbformat_minor": 2,
    "cells": [
        {
            "attachments": {},
            "cell_type": "markdown",
            "metadata": {},
            "source": [
                "# About CWW (Code Writing Worksheet) # 5\n",
                "For this assignment, you'll be working with the same partner as last week.  You can both be in this document at the same time, but only one should write code and run cells. \n",
                "\n",
                "Note: You have new partners this week! You can find them [here.](https://docs.google.com/spreadsheets/d/1yMrHzTY5d-jq-0LhZbRcFo1BrQN2-6fACB1EwfQ_jYc/edit?usp=sharing)\n",
                "\n",
                "**Instructions:**\n",
                "1. Either your partner or you should use the fork button ![fork button](http://shroutdocs.org/images/DCS204_F2020/fork.png) to make a copy of this workspace. \n",
                "2. Rename your notebook CWW5_LASTNAME_LASTNAME (where the first last name is yours and the second last name is your partners)\n",
                "2. Whoever made the copy should share the workspace with your partner.  NO NEED TO SHARE IT WITH ME.\n",
                "3. Answer the questions in the worksheet. Some of the parts of it require writing code.  Some parts require writing an explanation in a text cell.  Some of the steps require reading and summarizing.\n",
                "4. Finally, check to make sure that all of your code and text cells ran correctly, and that there are no extraneous cells. No need to submit anything - I'll begin checking your worksheets after they are due.\n",
                "\n",
                "This assignment is based on the text and code from chapter 9 of W.N. Venables, D.M. Smith and the R Core Team, *An Introduction to R*.  To further explore the textbook, go [here](https://cran.r-project.org/doc/manuals/R-intro.pdf)"
            ]
        },
        {
            "attachments": {},
            "cell_type": "markdown",
            "metadata": {},
            "source": [
                "**For this worksheet, one person will be the driver (who writes code) and the other person will be the navigator (who recommends a course of action.  ONLY THE DRIVER SHOULD RUN CELLS - TWO PEOPLE RUNNING CELLS AT THE SAME TIME CAUSES PROBLEMS.**  \n",
                "\n",
                "**For this assignment, the person who feels like they need more code-writing experience should be the driver.**"
            ]
        },
        {
            "attachments": {},
            "cell_type": "markdown",
            "metadata": {},
            "source": [
                "Use the space below to identify who was driving (writing code) for this notebook:"
            ]
        },
        {
            "attachments": {},
            "cell_type": "markdown",
            "metadata": {},
            "source": [
                ""
            ]
        },
        {
            "attachments": {},
            "cell_type": "markdown",
            "metadata": {},
            "source": [
                "Use the space below to identify who was navigating (talking through the code and recommending a course of action) for this notebook:"
            ]
        },
        {
            "attachments": {},
            "cell_type": "markdown",
            "metadata": {},
            "source": [
                ""
            ]
        },
        {
            "attachments": {},
            "cell_type": "markdown",
            "metadata": {},
            "source": [
                "## Part 1: Reading in Data\n",
                "\n",
                "There is a file named MSS_donors_all.csv. **Read it in, and store it in a variable called donors. Check the data to make sure that you read it in correctly.**"
            ]
        },
        {
            "cell_type": "code",
            "execution_count": 75,
            "metadata": {},
            "outputs": [],
            "source": [
                "# Read in omnibus data\n",
                ""
            ]
        },
        {
            "cell_type": "code",
            "execution_count": 0,
            "metadata": {},
            "outputs": [],
            "source": [
                ""
            ]
        },
        {
            "attachments": {},
            "cell_type": "markdown",
            "metadata": {},
            "source": [
                "## Part 2: Extracting and Analyzing Vectors\n",
                "\n",
                "**Create three vectors, called years, months and days.  The years vector should hold only the Year column of the donors dataframe.  The months vector should hold only the Month column.  The days vector should hold only the Day column.**"
            ]
        },
        {
            "cell_type": "code",
            "execution_count": 61,
            "metadata": {},
            "outputs": [],
            "source": [
                "# Store Month, Day and Year in vectors. Use histograms to interpret them\n",
                ""
            ]
        },
        {
            "attachments": {},
            "cell_type": "markdown",
            "metadata": {},
            "source": [
                "**Produce a histogram of each vector.  Interpret the results in the text box below.**"
            ]
        },
        {
            "cell_type": "code",
            "execution_count": 0,
            "metadata": {},
            "outputs": [],
            "source": [
                "# Histograms of each vector\n",
                ""
            ]
        },
        {
            "attachments": {},
            "cell_type": "markdown",
            "metadata": {},
            "source": [
                ""
            ]
        },
        {
            "attachments": {},
            "cell_type": "markdown",
            "metadata": {},
            "source": [
                "## Part 3: Analyzing two-dimensional data\n",
                "\n",
                "**Plot a scatterplot that compares the day of the month on which a donation was made and the amount of the donation.  Interpret the results in the text cell below.**"
            ]
        },
        {
            "cell_type": "code",
            "execution_count": 22,
            "metadata": {},
            "outputs": [],
            "source": [
                "# Scatterplot showing the relationship between amount and day\n",
                ""
            ]
        },
        {
            "attachments": {},
            "cell_type": "markdown",
            "metadata": {},
            "source": [
                ""
            ]
        },
        {
            "attachments": {},
            "cell_type": "markdown",
            "metadata": {},
            "source": [
                "**Calculate the correlation between the donation amount and day of the month.**"
            ]
        },
        {
            "cell_type": "code",
            "execution_count": 23,
            "metadata": {},
            "outputs": [],
            "source": [
                "# Correlation showing the relationship between Amount and Day\n",
                ""
            ]
        },
        {
            "attachments": {},
            "cell_type": "markdown",
            "metadata": {},
            "source": [
                "**Square the correlation. This tells you what proportion of the variance in one is explained by the other.  For example, if the correlaiton squared is .25, that means that 25 % of the change in one variable is accounted for by the other variable.**"
            ]
        },
        {
            "cell_type": "code",
            "execution_count": 24,
            "metadata": {},
            "outputs": [],
            "source": [
                "# Correlation squared - amount of variance in one accounted for by the other\n",
                ""
            ]
        },
        {
            "attachments": {},
            "cell_type": "markdown",
            "metadata": {},
            "source": [
                "**Use the cell below to interpret your scatterplot and correlation. What relationship (if any) is there between the day of the month and the amount? How does this finding compare to the analysis of correlation between Amount and Day from CWW3?**"
            ]
        },
        {
            "attachments": {},
            "cell_type": "markdown",
            "metadata": {},
            "source": [
                ""
            ]
        },
        {
            "attachments": {},
            "cell_type": "markdown",
            "metadata": {},
            "source": [
                "## Part 4: Practicing For-loops\n",
                "\n",
                "Remember that for-loops are really helpful for classifying data into more than two categories.\n",
                "\n",
                "Below you'll find two vectors that list the towns and cities in Cumberland and Androscoggin Counties.\n",
                "\n",
                "**Adapt the for-loop below (which I've commented for you) to put \"cumberland\" in the County_ID column when a donation came from a town in Cumberland, \"androscoggin\" when it came from a town in Androscoggin, and \"other\" if the town is in neither Androscoggin nor Cumberland counties.**"
            ]
        },
        {
            "cell_type": "code",
            "execution_count": 76,
            "metadata": {},
            "outputs": [],
            "source": [
                "# For loop to identify in androscoggin, in cumberland or other\n",
                "Cumberland_towns \u003c- c(\"baldwin\", \"bridgton\", \"brunswick\", \n",
                "\"cape elizabeth\", \"casco\", \"chebeague island\", \"cumberland\", \n",
                "\"falmouth\", \"freeport\", \"frye island\", \"gorham\", \"gray\", \n",
                "\"harpswell\", \"harrison\", \"long island\", \"naples\", \"new gloucester\", \n",
                "\"north yarmouth\", \"portland\", \"pownal\", \"raymond\", \"scarborough\", \n",
                "\"sebago\", \"south portland\", \"standish\", \"westbrook\", \"windham\", \n",
                "\"yarmouth\")\n",
                "\n",
                "Androscoggin_towns \u003c- c(\"auburn\", \"durham\", \"leeds\", \"lewiston\", \n",
                "\"lisbon\", \"livermore falls\", \"mechanic falls\", \"minot\", \"poland\",\n",
                "\"sabattus\", \"turner\", \"wales\")"
            ]
        },
        {
            "cell_type": "code",
            "execution_count": 77,
            "metadata": {},
            "outputs": [],
            "source": [
                "# Create an empty column called County_ID\n",
                "donors$county_id \u003c- \"\"\n",
                "\n",
                "# Start a for-loop that counts through each row in the donors dataframe\n",
                "for(r in 1:nrow(donors)) {\n",
                "    # Store the name of the town in a given row in a variable called town_to_test\n",
                "    town_to_test \u003c- donors$Location[r]\n",
                "    # Write an if statement that tests whether that town is contained within the vector Cumberland_towns\n",
                "    if( ){\n",
                "        # If the town is within Cumberland_towns, \n",
                "        #store \"cumberland\" in the appropriate row of the County_ID column\n",
                "        \n",
                "    # Wirte an else if statement that tests whether that town is contained within the vector Androscoggin_towns\n",
                "    }else if( ) {\n",
                "        # If the town is within Androscoggin_towns, \n",
                "        # store \"androscoggin\" in the appropriate row of the County_ID column\n",
                "         \n",
                "    # Write an else statement for when neither of the two conditions are met\n",
                "    } else {\n",
                "        # If the town is not within Cumberland_towns or Androscoggin_towns, \n",
                "        # store \"other\" in the appropriate row of the County_ID column\n",
                "         \n",
                "    }\n",
                "}"
            ]
        },
        {
            "attachments": {},
            "cell_type": "markdown",
            "metadata": {},
            "source": [
                "**Check your dataframe.  Does it look as you expected? If so, move forward, if not, troubleshoot until you have a correct County_ID column**"
            ]
        },
        {
            "cell_type": "code",
            "execution_count": 27,
            "metadata": {},
            "outputs": [],
            "source": [
                "donors"
            ]
        },
        {
            "attachments": {},
            "cell_type": "markdown",
            "metadata": {},
            "source": [
                "**Create a column called Cumberland_test. Write a for-loop that stores a 1 in that column if a donation is made from a town in Cumberland County, and a 0 if it is not.*italic text***"
            ]
        },
        {
            "cell_type": "code",
            "execution_count": 78,
            "metadata": {},
            "outputs": [],
            "source": [
                "# Create an empty column\n",
                "donors$Cumberland_test \u003c- 0\n",
                "\n",
                "# For-loop that stores 1 in Cumberland_test when the donation is from Cumberland\n",
                ""
            ]
        },
        {
            "attachments": {},
            "cell_type": "markdown",
            "metadata": {},
            "source": [
                "**Create a column called Androscoggin_test. Write a for-loop that stores a 1 in that column if a donation is made from a town in Androscoggin County, and a 0 if it is not.**"
            ]
        },
        {
            "cell_type": "code",
            "execution_count": 79,
            "metadata": {},
            "outputs": [],
            "source": [
                "# Create an empty column\n",
                "donors$Androscoggin_test \u003c- 0\n",
                "\n",
                "# For-loop that stores 1 in Androscoggin_test when the donation is from Cumberland\n",
                ""
            ]
        },
        {
            "attachments": {},
            "cell_type": "markdown",
            "metadata": {},
            "source": [
                "**In a few sentences below, explain why we don't need a test variable column to capture the \"other\" locations. (Hint: see the Linear Regression video).**"
            ]
        },
        {
            "attachments": {},
            "cell_type": "markdown",
            "metadata": {},
            "source": [
                "## Part 5: T-tests\n",
                "\n",
                "**Subset the donors dataframe into two vectors - one called cumberland_donoations_amt containing donations from Cumberland and one called androscoggin_donations_amt containing donations from Androscoggin.**\n",
                "\n",
                "(Hint: one way to do this is to create two dataframes, one with Cumberland donations and one with Androscoggin donations, and then to subset just the Amount column from each.)"
            ]
        },
        {
            "cell_type": "code",
            "execution_count": 69,
            "metadata": {},
            "outputs": [],
            "source": [
                ""
            ]
        },
        {
            "attachments": {},
            "cell_type": "markdown",
            "metadata": {},
            "source": [
                "**Take the mean of each vector.**"
            ]
        },
        {
            "cell_type": "code",
            "execution_count": 70,
            "metadata": {},
            "outputs": [],
            "source": [
                "# Get the means of each vector\n",
                ""
            ]
        },
        {
            "attachments": {},
            "cell_type": "markdown",
            "metadata": {},
            "source": [
                "**Run the code cell below. Then use the text box below to explain what the code was testing, and what the results tell you.**\n",
                "\n",
                "(Hint: if you get an error, make sure that your vectors are appropriately named.)"
            ]
        },
        {
            "cell_type": "code",
            "execution_count": 71,
            "metadata": {},
            "outputs": [],
            "source": [
                "# T-test\n",
                "t.test(cumberland_donations_amt, androscoggin_donations_amt)"
            ]
        },
        {
            "attachments": {},
            "cell_type": "markdown",
            "metadata": {},
            "source": [
                "## Part 6: Merging\n",
                "\n",
                "**Start by running the cell below, to produce two dataframes**"
            ]
        },
        {
            "cell_type": "code",
            "execution_count": 1,
            "metadata": {},
            "outputs": [
                {
                    "data": {
                        "text/html": "\u003ctable class=\"dataframe\"\u003e\n\u003ccaption\u003eA data.frame: 3 × 3\u003c/caption\u003e\n\u003cthead\u003e\n\t\u003ctr\u003e\u003cth scope=col\u003enumber\u003c/th\u003e\u003cth scope=col\u003eletter\u003c/th\u003e\u003cth scope=col\u003eword\u003c/th\u003e\u003c/tr\u003e\n\t\u003ctr\u003e\u003cth scope=col\u003e\u0026lt;dbl\u0026gt;\u003c/th\u003e\u003cth scope=col\u003e\u0026lt;chr\u0026gt;\u003c/th\u003e\u003cth scope=col\u003e\u0026lt;chr\u0026gt;\u003c/th\u003e\u003c/tr\u003e\n\u003c/thead\u003e\n\u003ctbody\u003e\n\t\u003ctr\u003e\u003ctd\u003e2\u003c/td\u003e\u003ctd\u003eI\u003c/td\u003e\u003ctd\u003ebrown\u003c/td\u003e\u003c/tr\u003e\n\t\u003ctr\u003e\u003ctd\u003e2\u003c/td\u003e\u003ctd\u003eH\u003c/td\u003e\u003ctd\u003ejumps\u003c/td\u003e\u003c/tr\u003e\n\t\u003ctr\u003e\u003ctd\u003e4\u003c/td\u003e\u003ctd\u003eG\u003c/td\u003e\u003ctd\u003edog  \u003c/td\u003e\u003c/tr\u003e\n\u003c/tbody\u003e\n\u003c/table\u003e\n",
                        "text/latex": "A data.frame: 3 × 3\n\\begin{tabular}{lll}\n number \u0026 letter \u0026 word\\\\\n \u003cdbl\u003e \u0026 \u003cchr\u003e \u0026 \u003cchr\u003e\\\\\n\\hline\n\t 2 \u0026 I \u0026 brown\\\\\n\t 2 \u0026 H \u0026 jumps\\\\\n\t 4 \u0026 G \u0026 dog  \\\\\n\\end{tabular}\n",
                        "text/markdown": "\nA data.frame: 3 × 3\n\n| number \u0026lt;dbl\u0026gt; | letter \u0026lt;chr\u0026gt; | word \u0026lt;chr\u0026gt; |\n|---|---|---|\n| 2 | I | brown |\n| 2 | H | jumps |\n| 4 | G | dog   |\n\n",
                        "text/plain": "  number letter word \n1 2      I      brown\n2 2      H      jumps\n3 4      G      dog  "
                    },
                    "metadata": {},
                    "output_type": "display_data"
                },
                {
                    "data": {
                        "text/html": "\u003ctable class=\"dataframe\"\u003e\n\u003ccaption\u003eA data.frame: 3 × 3\u003c/caption\u003e\n\u003cthead\u003e\n\t\u003ctr\u003e\u003cth scope=col\u003enumber\u003c/th\u003e\u003cth scope=col\u003efruit\u003c/th\u003e\u003cth scope=col\u003eanimal\u003c/th\u003e\u003c/tr\u003e\n\t\u003ctr\u003e\u003cth scope=col\u003e\u0026lt;dbl\u0026gt;\u003c/th\u003e\u003cth scope=col\u003e\u0026lt;chr\u0026gt;\u003c/th\u003e\u003cth scope=col\u003e\u0026lt;chr\u0026gt;\u003c/th\u003e\u003c/tr\u003e\n\u003c/thead\u003e\n\u003ctbody\u003e\n\t\u003ctr\u003e\u003ctd\u003e1\u003c/td\u003e\u003ctd\u003eapple\u003c/td\u003e\u003ctd\u003ehorse\u003c/td\u003e\u003c/tr\u003e\n\t\u003ctr\u003e\u003ctd\u003e2\u003c/td\u003e\u003ctd\u003epear \u003c/td\u003e\u003ctd\u003edog  \u003c/td\u003e\u003c/tr\u003e\n\t\u003ctr\u003e\u003ctd\u003e3\u003c/td\u003e\u003ctd\u003epluot\u003c/td\u003e\u003ctd\u003ecat  \u003c/td\u003e\u003c/tr\u003e\n\u003c/tbody\u003e\n\u003c/table\u003e\n",
                        "text/latex": "A data.frame: 3 × 3\n\\begin{tabular}{lll}\n number \u0026 fruit \u0026 animal\\\\\n \u003cdbl\u003e \u0026 \u003cchr\u003e \u0026 \u003cchr\u003e\\\\\n\\hline\n\t 1 \u0026 apple \u0026 horse\\\\\n\t 2 \u0026 pear  \u0026 dog  \\\\\n\t 3 \u0026 pluot \u0026 cat  \\\\\n\\end{tabular}\n",
                        "text/markdown": "\nA data.frame: 3 × 3\n\n| number \u0026lt;dbl\u0026gt; | fruit \u0026lt;chr\u0026gt; | animal \u0026lt;chr\u0026gt; |\n|---|---|---|\n| 1 | apple | horse |\n| 2 | pear  | dog   |\n| 3 | pluot | cat   |\n\n",
                        "text/plain": "  number fruit animal\n1 1      apple horse \n2 2      pear  dog   \n3 3      pluot cat   "
                    },
                    "metadata": {},
                    "output_type": "display_data"
                }
            ],
            "source": [
                "# Creates an empty dataframe with three rows and three columns\n",
                "df1 \u003c- as.data.frame(matrix(ncol = 3, nrow = 3))\n",
                "# Populates the first column of df1\n",
                "df1[,1] \u003c- c(2, 2, 4)\n",
                "# Populates the second column of df1\n",
                "df1[,2] \u003c- c(\"I\", \"H\", \"G\")\n",
                "# Populates the third column of df1\n",
                "df1[,3] \u003c- c(\"brown\", \"jumps\", \"dog\")\n",
                "# Sets df1 column names\n",
                "names(df1) \u003c- c(\"number\", \"letter\", \"word\")\n",
                "\n",
                "# Creates an empty dataframe with three rows and three columns\n",
                "df2 \u003c- as.data.frame(matrix(ncol = 3, nrow = 3))\n",
                "# Populates the first column of df2\n",
                "df2[,1] \u003c- c(1, 2, 3)\n",
                "# Populates the second column of df2\n",
                "df2[,2] \u003c- c(\"apple\", \"pear\", \"pluot\")\n",
                "# Populates the third column of df3\n",
                "df2[,3] \u003c- c(\"horse\", \"dog\", \"cat\")\n",
                "# Sets df2 column names\n",
                "names(df2) \u003c- c(\"number\", \"fruit\", \"animal\")\n",
                "\n",
                "# Views both dataframes\n",
                "df1\n",
                "df2 "
            ]
        },
        {
            "attachments": {},
            "cell_type": "markdown",
            "metadata": {},
            "source": [
                "**Run the cell below, and then use comments to explain what is happening in each line of code.  Be specific about each parameter.**"
            ]
        },
        {
            "cell_type": "code",
            "execution_count": 0,
            "metadata": {},
            "outputs": [],
            "source": [
                "merge(df1, df2, by.x = \"number\", by.y = \"number\", all.x = TRUE, all.y = TRUE)\n",
                "\n",
                "merge(df1, df2, by.x = \"number\", by.y = \"number\", all.x = TRUE, all.y = FALSE)\n",
                "\n",
                "merge(df1, df2, by.x = \"number\", by.y = \"number\", all.x = FALSE, all.y = TRUE)\n",
                "\n",
                "merge(df1, df2, by.x = \"number\", by.y = \"number\", all.x = FALSE, all.y = FALSE)"
            ]
        },
        {
            "attachments": {},
            "cell_type": "markdown",
            "metadata": {},
            "source": [
                "The code below would run, but would not produce meaningful results.  **Explain why in the text cell below.**"
            ]
        },
        {
            "cell_type": "code",
            "execution_count": 0,
            "metadata": {},
            "outputs": [],
            "source": [
                "merge(df1, df2, by.x = \"word\", by.y = \"fruit\", all.x = FALSE, all.y = FALSE)"
            ]
        },
        {
            "attachments": {},
            "cell_type": "markdown",
            "metadata": {},
            "source": [
                ""
            ]
        },
        {
            "attachments": {},
            "cell_type": "markdown",
            "metadata": {},
            "source": [
                "## Part 7: Merging our data\n",
                "\n",
                "**Begin by reading in a small dataframe containing biographical information about a subset of our donors. It is called MSS_donors_bio.csv.  Store it in a variable called donor_demography**"
            ]
        },
        {
            "cell_type": "code",
            "execution_count": 80,
            "metadata": {},
            "outputs": [],
            "source": [
                "# Merge with bios\n",
                ""
            ]
        },
        {
            "attachments": {},
            "cell_type": "markdown",
            "metadata": {},
            "source": [
                "**Compare the column names in donor_demography with the column names in donors. Which ones do you think contain identical information?**"
            ]
        },
        {
            "cell_type": "code",
            "execution_count": 39,
            "metadata": {},
            "outputs": [],
            "source": [
                ""
            ]
        },
        {
            "attachments": {},
            "cell_type": "markdown",
            "metadata": {},
            "source": [
                "**Merge the donor_demography and donors dataframes.  Use c(\"Name_CV\", \"First\", \"Middle\", \"Last\", \"Location\") for the by.x and by.y arguments.  Set all.x and all.y to FALSE.**\n",
                "\n",
                "(Hint: Check Monday's slides for a short discussion of using the c() function here.)"
            ]
        },
        {
            "cell_type": "code",
            "execution_count": 81,
            "metadata": {},
            "outputs": [],
            "source": [
                "donor_bios \u003c- merge(donor_demography, donors, \n",
                "by.x = , \n",
                "by.y = , \n",
                "all.x = , \n",
                "all.y = )"
            ]
        },
        {
            "attachments": {},
            "cell_type": "markdown",
            "metadata": {},
            "source": [
                "**Look at your new dataframe. Describe what rows were kept, and what rows were dropped.**\n",
                "\n",
                "(Hint: it might help to compare the two dataframes that you started with.)"
            ]
        },
        {
            "cell_type": "code",
            "execution_count": 82,
            "metadata": {},
            "outputs": [],
            "source": [
                ""
            ]
        },
        {
            "attachments": {},
            "cell_type": "markdown",
            "metadata": {},
            "source": [
                "## Part 8: Chi Square tests\n",
                "\n",
                "**Start by using the cell below to explain what a chi-square test is testing. Also explain what the p-value in a chi-square test tells us.**"
            ]
        },
        {
            "attachments": {},
            "cell_type": "markdown",
            "metadata": {},
            "source": [
                ""
            ]
        },
        {
            "attachments": {},
            "cell_type": "markdown",
            "metadata": {},
            "source": [
                "**The code below produces a table that shows counts of donations across two different attributes.  Run this cell and see if you can discern any relationship between the profession of a donor and their location.**"
            ]
        },
        {
            "cell_type": "code",
            "execution_count": 49,
            "metadata": {},
            "outputs": [],
            "source": [
                "# Table comparing Profession and County (Androscoggin, Cumberland or Other)\n",
                "table(donor_bios$Census_Profession, donor_bios$county_id)"
            ]
        },
        {
            "attachments": {},
            "cell_type": "markdown",
            "metadata": {},
            "source": [
                "**Run the cell below. What kind of a claim can we make about the relationship between profession and county (as represented in this data)?  Use the cell below to explain.**"
            ]
        },
        {
            "cell_type": "code",
            "execution_count": 50,
            "metadata": {},
            "outputs": [],
            "source": [
                "# Chi square test\n",
                "chisq.test(donor_bios$Census_Profession, donor_bios$county_id)"
            ]
        },
        {
            "attachments": {},
            "cell_type": "markdown",
            "metadata": {},
            "source": [
                ""
            ]
        },
        {
            "attachments": {},
            "cell_type": "markdown",
            "metadata": {},
            "source": [
                "## Part 9: Controlled Vocabularies\n",
                "\n",
                "You might be thinking that there are too many different professions, and some that could be collapsed together (for example shoe maker and shoemaker).\n",
                "\n",
                "**Create a .csv file that has two columns: Census_Profession and Standardized_Profession. Each row of Census_Profession should contain one of the professions listed in the table above.  Each row of Standardized_Profession should contain a controlled vocabulary entry.  So, for example, the entries in the Standardized Profession column for shoemaker and shoe maker could be shoe.**\n",
                "\n",
                "**Once you have created that file, save it and upload it to your notebook.**\n",
                "\n",
                "**Read it in, and store it in a variable called professions_CV.**\n",
                "\n",
                ""
            ]
        },
        {
            "cell_type": "code",
            "execution_count": 0,
            "metadata": {},
            "outputs": [],
            "source": [
                ""
            ]
        },
        {
            "attachments": {},
            "cell_type": "markdown",
            "metadata": {},
            "source": [
                "**Merge professions_CV and donor_bios, using the code structure below. (Fill in the by.x = and by.y = )**"
            ]
        },
        {
            "cell_type": "code",
            "execution_count": 0,
            "metadata": {},
            "outputs": [],
            "source": [
                "# Merge in professions controlled vocabulary\n",
                "donor_bios \u003c- merge(donor_bios, professions_cv, \n",
                "by.x = , \n",
                "by.y = , \n",
                "all.x = , \n",
                "all.y = )"
            ]
        },
        {
            "attachments": {},
            "cell_type": "markdown",
            "metadata": {},
            "source": [
                "**Re-run your chi-square test, using Standardized_Profession instead of Census_Profession.**"
            ]
        },
        {
            "cell_type": "code",
            "execution_count": 0,
            "metadata": {},
            "outputs": [],
            "source": [
                ""
            ]
        },
        {
            "attachments": {},
            "cell_type": "markdown",
            "metadata": {},
            "source": [
                "**Use the text cell below to interpret your new findings.**"
            ]
        },
        {
            "attachments": {},
            "cell_type": "markdown",
            "metadata": {},
            "source": [
                ""
            ]
        },
        {
            "attachments": {},
            "cell_type": "markdown",
            "metadata": {},
            "source": [
                "## Part 10: Pesky NAs\n",
                "\n",
                "When we read data in that has blank cells, R fills those cells with the value NA.  NA is a bit like a boolean value - it stands for \"Not Available.\" \n",
                "\n",
                "Some of our tests won't work with any NAs, so we need to subset our dataframes to remove them.\n",
                "\n",
                "To do that, we use the function [is.na()](https://www.rdocumentation.org/packages/ursa/versions/3.9.2/topics/is.na), which returns a boolean vector that is the same length as the vector we are evaluating, with TRUE at the same index of values that are NA, and FALSE at all other indexes.\n",
                "\n",
                "**Run the cell below to see is.na() in action:**"
            ]
        },
        {
            "cell_type": "code",
            "execution_count": 66,
            "metadata": {},
            "outputs": [],
            "source": [
                "sample_vector \u003c- c(9, 0, 8, 1, 4, NA, 4, 2, NA)\n",
                "is.na(sample_vector)"
            ]
        },
        {
            "attachments": {},
            "cell_type": "markdown",
            "metadata": {},
            "source": [
                "**Use the is.na() function to test whether there are any NAs in the Census_Household_Value column of our data.  Store the resulting boolean vector in a variable called CHV_na**"
            ]
        },
        {
            "cell_type": "code",
            "execution_count": 84,
            "metadata": {},
            "outputs": [],
            "source": [
                "# Test for NAs in Census Household Value column\n",
                "CHV_na \u003c- "
            ]
        },
        {
            "attachments": {},
            "cell_type": "markdown",
            "metadata": {},
            "source": [
                "**Use the CHV_na vector to subset the donor_bios dataframe.  The goal here is to keep ONLY the rows that DO NOT have NA in the Census_Household_Value column.**"
            ]
        },
        {
            "cell_type": "code",
            "execution_count": 85,
            "metadata": {},
            "outputs": [],
            "source": [
                "# Drop NAs\n",
                ""
            ]
        },
        {
            "attachments": {},
            "cell_type": "markdown",
            "metadata": {},
            "source": [
                "## Part 11: A Small Regression Example\n",
                "\n",
                "We now have some data that we can run regression on.  In this example, we're going to theorize that a person living in either Androscoggin or Cumberland, and the value of their house in the 1850 census (in this very small sample of donations) might predict the amount a person donated.\n",
                "\n",
                "Interpret the coefficients and p-balues below."
            ]
        },
        {
            "attachments": {},
            "cell_type": "markdown",
            "metadata": {},
            "source": [
                ""
            ]
        },
        {
            "cell_type": "code",
            "execution_count": 86,
            "metadata": {},
            "outputs": [],
            "source": [
                "model \u003c- lm(Amount ~ Census_Household_Value + Cumberland_test + Androscoggin_test, data = donor_bios_subset)\n",
                "summary(model)"
            ]
        }
    ]
}
