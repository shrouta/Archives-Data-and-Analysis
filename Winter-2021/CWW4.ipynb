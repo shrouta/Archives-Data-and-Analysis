{
    "metadata": {
        "kernelspec": {
            "name": "ir",
            "display_name": "R",
            "language": "R"
        }
    },
    "nbformat": 4,
    "nbformat_minor": 4,
    "cells": [
        {
            "attachments": {},
            "cell_type": "markdown",
            "metadata": {},
            "source": [
                "# About CWW (Code Writing Worksheet) # 4\n",
                "For this assignment, you'll be working with the same partner as last week.  You can both be in this document at the same time, but only one should write code and run cells. \n",
                "\n",
                "**Instructions:**\n",
                "1. Either your partner or you should use the fork button ![fork button](http://shroutdocs.org/images/DCS204_F2020/fork.png) to make a copy of this workspace. \n",
                "2. Whoever made the copy should share the workspace with your partner.  NO NEED TO SHARE IT WITH ME.\n",
                "3. Answer the questions in the worksheet. Some of the parts of it require writing code.  Some parts require writing an explanation in a text cell.  Some of the steps require reading and summarizing.\n",
                "4. Finally, check to make sure that all of your code and text cells ran correctly, and that there are no extraneous cells. No need to submit anything - I'll begin checking your worksheets after they are due.\n",
                "\n",
                "This assignment is based on the text and code from chapter 9 of W.N. Venables, D.M. Smith and the R Core Team, *An Introduction to R*.  To further explore the textbook, go [here](https://cran.r-project.org/doc/manuals/R-intro.pdf)"
            ]
        },
        {
            "attachments": {},
            "cell_type": "markdown",
            "metadata": {},
            "source": [
                "**For this worksheet, one person will be the driver (who writes code) and the other person will be the navigator (who recommends a course of action.  ONLY THE DRIVER SHOULD RUN CELLS - TWO PEOPLE RUNNING CELLS AT THE SAME TIME CAUSES PROBLEMS.**  \n",
                "\n",
                "**For this assignment, the person who feels like they need more code-writing experience should be the driver.**"
            ]
        },
        {
            "attachments": {},
            "cell_type": "markdown",
            "metadata": {},
            "source": [
                "Use the space below to identify who was driving (writing code) for this notebook:"
            ]
        },
        {
            "attachments": {},
            "cell_type": "markdown",
            "metadata": {},
            "source": [
                ""
            ]
        },
        {
            "attachments": {},
            "cell_type": "markdown",
            "metadata": {},
            "source": [
                "Use the space below to identify who was navigating (talking through the code and recommending a course of action) for this notebook:"
            ]
        },
        {
            "attachments": {},
            "cell_type": "markdown",
            "metadata": {},
            "source": [
                ""
            ]
        },
        {
            "attachments": {},
            "cell_type": "markdown",
            "metadata": {},
            "source": [
                "## Working with our data (some more)\n",
                "\n",
                "Go to the [sheet with the second CWW pairings](https://docs.google.com/spreadsheets/d/1WC_s3CWYFmHvBq0w76ts2D-nh1ogfFBtg-h4gvTLXV0/edit?usp=sharing).  There should be two new columns - a second link that takes you to an image of one page of the ledger and a link that takes you to your comrades' google sheet.\n",
                "\n",
                "This will probably take more than an hour - so budget time accordingly.  Working together, check and confirm the first name, last name, middle initial (if any), location (if any) (for location [this list of Maine towns](https://en.wikipedia.org/wiki/List_of_towns_in_Maine) might be helpful), and amount of donation.  In a few cases the donation does not come from a person, but rather from something like \"the sale of rail road bonds.\"  In those cases, enter the description in the Other entity column.\n",
                "\n",
                "Add a column named \"inferred_gender\" and another named \"title.\"  Use the title column for any instance of \"Mr.\" \"Mrs.\" \"Miss.\" \"Dr.\" or similar.  Use inferred_gender to enter your best guess about the gender identity that the person's name would have conveyed in the nineteenth century.\n",
                "\n",
                "Once you have completed your transcription, download your new google doc as a .csv file (File \u003e Download \u003e Comma Seperated Values).  Re-name it Maine_State_Seminary_X2.csv, where X is your group letter.\n",
                "\n",
                "Finally, drag the saved file into the files column of this notebook.\n",
                "\n",
                "Whew!  Let's get started!"
            ]
        },
        {
            "attachments": {},
            "cell_type": "markdown",
            "metadata": {},
            "source": [
                "# Part I: Recap of Subsetting\n",
                "\n",
                "## Reading Code\n",
                "\n",
                "Below, you will find some code that does stuff.\n",
                "\n",
                "**Add comments (use # - pound sign - hashtag - octothorp) explaining what each line of code does.** \n",
                "\n",
                "**For the purposes of this code - some_csv.csv is a csv file of three columns, named Fruit, Store and Cost.  It has three rows.**\n",
                "\n",
                "**DO NOT RUN THE CODE. YOU WILL GET AN ERROR**"
            ]
        },
        {
            "cell_type": "code",
            "execution_count": 0,
            "metadata": {},
            "outputs": [],
            "source": [
                "\n",
                "x \u003c- read.csv(\"some_csv.csv\")\n",
                "\n",
                "x[1,2]\n",
                "\n",
                "x$Store[1]\n",
                "\n",
                "x[ ,1]\n",
                "\n",
                "x[2,]\n",
                "\n",
                "which(x$Store == \"Shaws\")\n",
                "\n",
                "x$Store == \"Shaws\"\n",
                "\n",
                "x[x$Store == \"Shaws\",]"
            ]
        },
        {
            "attachments": {},
            "cell_type": "markdown",
            "metadata": {},
            "source": [
                "Below, you will find some different code, that would *NOT* do stuff.\n",
                "\n",
                "Add comments expaining why each line of code would *NOT* work."
            ]
        },
        {
            "cell_type": "code",
            "execution_count": 0,
            "metadata": {},
            "outputs": [],
            "source": [
                "\n",
                "x \u003c- read.csv(some_csv.csv)\n",
                "\n",
                "x[1,2,3,1]\n",
                "\n",
                "x$1[1]\n",
                "\n",
                "x[ , 1, 2, 3]\n",
                "\n",
                "x[7,5]\n",
                "\n",
                "x[which(x$Store == Shaws),]\n",
                "\n",
                "x[which(x$Fruit == \"Apples\")]"
            ]
        },
        {
            "attachments": {},
            "cell_type": "markdown",
            "metadata": {},
            "source": [
                "## Practicing Subsetting\n",
                "\n",
                "The following exercises develop your subsetting expertise."
            ]
        },
        {
            "attachments": {},
            "cell_type": "markdown",
            "metadata": {},
            "source": [
                "**In the cell below, read in the Bates donations data that you just systemetized.**"
            ]
        },
        {
            "cell_type": "code",
            "execution_count": 2,
            "metadata": {},
            "outputs": [],
            "source": [
                "donors \u003c- read.csv(\" \")"
            ]
        },
        {
            "attachments": {},
            "cell_type": "markdown",
            "metadata": {},
            "source": [
                "**Rename your columns.**"
            ]
        },
        {
            "cell_type": "code",
            "execution_count": 1,
            "metadata": {},
            "outputs": [],
            "source": [
                ""
            ]
        },
        {
            "attachments": {},
            "cell_type": "markdown",
            "metadata": {},
            "source": [
                "**In the cell below, write some code that stores all female-identified donors in a dataframe using the which() function. Make sure to comment your code.**"
            ]
        },
        {
            "cell_type": "code",
            "execution_count": 7,
            "metadata": {},
            "outputs": [],
            "source": [
                ""
            ]
        },
        {
            "attachments": {},
            "cell_type": "markdown",
            "metadata": {},
            "source": [
                "**In the cell below, write some code that stores all male-identified donors in a dataframe using the which() function. Make sure to comment your code.**"
            ]
        },
        {
            "cell_type": "code",
            "execution_count": 8,
            "metadata": {},
            "outputs": [],
            "source": [
                ""
            ]
        },
        {
            "attachments": {},
            "cell_type": "markdown",
            "metadata": {},
            "source": [
                "**In the cell below, write some code that stores all female-identified donors in a dataframe using a boolean vector. Make sure to comment your code.**"
            ]
        },
        {
            "cell_type": "code",
            "execution_count": 9,
            "metadata": {},
            "outputs": [],
            "source": [
                ""
            ]
        },
        {
            "attachments": {},
            "cell_type": "markdown",
            "metadata": {},
            "source": [
                "**In the cell below, write some code that stores all male-identified donors in a dataframe using a boolean vector. Make sure to comment your code.**"
            ]
        },
        {
            "cell_type": "code",
            "execution_count": 10,
            "metadata": {},
            "outputs": [],
            "source": [
                ""
            ]
        },
        {
            "attachments": {},
            "cell_type": "markdown",
            "metadata": {},
            "source": [
                "**In the cell below, write lines of code that evaluate the mean donated amount, and stores all donations above that amount in a variable. Make sure to comment your code.**"
            ]
        },
        {
            "cell_type": "code",
            "execution_count": 12,
            "metadata": {},
            "outputs": [],
            "source": [
                ""
            ]
        },
        {
            "attachments": {},
            "cell_type": "markdown",
            "metadata": {},
            "source": [
                "Let's do this again, but with towns!"
            ]
        },
        {
            "attachments": {},
            "cell_type": "markdown",
            "metadata": {},
            "source": [
                "**Comment the code in the cell below.**\n",
                "\n",
                ""
            ]
        },
        {
            "cell_type": "code",
            "execution_count": 23,
            "metadata": {},
            "outputs": [],
            "source": [
                "Cumberland_towns \u003c- c(\"baldwin\", \"bridgton\", \"brunswick\", \n",
                "\"cape elizabeth\", \"casco\", \"chebeague island\", \"cumberland\", \n",
                "\"falmouth\", \"freeport\", \"frye island\", \"gorham\", \"gray\", \n",
                "\"harpswell\", \"harrison\", \"long island\", \"naples\", \"new gloucester\", \n",
                "\"north yarmouth\", \"portland\", \"pownal\", \"raymond\", \"scarborough\", \n",
                "\"sebago\", \"south portland\", \"standish\", \"westbrook\", \"windham\", \n",
                "\"yarmouth\")\n",
                "\n",
                "from_cumberland_tf \u003c- donors$Location %in% Cumberland_towns\n",
                "\n",
                "from_cumberland_tf"
            ]
        },
        {
            "attachments": {},
            "cell_type": "markdown",
            "metadata": {},
            "source": [
                "**Return a dataframe that includes only rows representing donations from Cumberland County. Make sure to comment your code.**"
            ]
        },
        {
            "cell_type": "code",
            "execution_count": 22,
            "metadata": {},
            "outputs": [],
            "source": [
                ""
            ]
        },
        {
            "attachments": {},
            "cell_type": "markdown",
            "metadata": {},
            "source": [
                "**Return a dataframe that includes only rows representing donors NOT from Cumberland county. Make sure to comment your code.**"
            ]
        },
        {
            "cell_type": "code",
            "execution_count": 24,
            "metadata": {},
            "outputs": [],
            "source": [
                ""
            ]
        },
        {
            "attachments": {},
            "cell_type": "markdown",
            "metadata": {},
            "source": [
                "**Finally compare the means of the donation amounts from towns that are in Cumberland county and not in Cumberland county.  \n",
                "Use the cell below to explain the significance of what you find.  Don't just say that one number is higher or lower - what might your finding tell us about the financial history of Bates College?**"
            ]
        },
        {
            "cell_type": "code",
            "execution_count": 0,
            "metadata": {},
            "outputs": [],
            "source": [
                ""
            ]
        },
        {
            "attachments": {},
            "cell_type": "markdown",
            "metadata": {},
            "source": [
                ""
            ]
        },
        {
            "attachments": {},
            "cell_type": "markdown",
            "metadata": {},
            "source": [
                "# Part II: Control Structures\n",
                "## For Loops\n",
                "\n",
                "We now get to move on to For Loops, which allow us to perform the same transformation over several different rows of data.\n",
                "\n",
                "The examples we're looking at today *could* be done with some simple vector transformations.  However, we're practicing them because they are a gentle introduction into how for-loops work.\n",
                "\n",
                "The syntax for a for loop is the following:"
            ]
        },
        {
            "cell_type": "code",
            "execution_count": 0,
            "metadata": {},
            "outputs": [],
            "source": [
                "for(number in range of numbers) {\n",
                "    do something, often using the number\n",
                "}"
            ]
        },
        {
            "attachments": {},
            "cell_type": "markdown",
            "metadata": {},
            "source": [
                "So if I wanted to write a lop that printed the numbers 1, 2 and 3, I might run:"
            ]
        },
        {
            "cell_type": "code",
            "execution_count": 0,
            "metadata": {},
            "outputs": [],
            "source": [
                "for(num in 1:3){\n",
                "    print(num)\n",
                "}"
            ]
        },
        {
            "attachments": {},
            "cell_type": "markdown",
            "metadata": {},
            "source": [
                "A text version of this would be, when num = 1, print  1.  When num = 2, print 2.  When num = 3, print 3.  The for() loop just sets num to 1, then 2, then 3."
            ]
        },
        {
            "attachments": {},
            "cell_type": "markdown",
            "metadata": {},
            "source": [
                "So, if I had a vector of the letters of the alphabet, and I wanted to write a loop that printed only the first three letters, I might use the following code:"
            ]
        },
        {
            "cell_type": "code",
            "execution_count": 26,
            "metadata": {},
            "outputs": [],
            "source": [
                "# Stores A to G in the variable alphabet\n",
                "alphabet \u003c- c(\"A\", \"B\", \"C\", \"D\", \"E\", \"F\", \"G\")\n",
                "\n",
                "# For loop that prints each item in the vector alphabet\n",
                "for(num in 1:3) {\n",
                "    # Sets the variable letter to one element of the vector alphabet\n",
                "    letter \u003c- alphabet[num]\n",
                "    # Prints that element\n",
                "    print(letter)\n",
                "}"
            ]
        },
        {
            "attachments": {},
            "cell_type": "markdown",
            "metadata": {},
            "source": [
                "**Edit the cell below, so that it prints A to G:**"
            ]
        },
        {
            "cell_type": "code",
            "execution_count": 28,
            "metadata": {},
            "outputs": [],
            "source": [
                "# For loop that prints each item in the vector alphabet\n",
                "for(num in ) {\n",
                "    # Sets the variable letter to one element of the vector alphabet\n",
                "    letter \u003c- alphabet[num]\n",
                "    # Prints that element\n",
                "    print(letter)\n",
                "}"
            ]
        },
        {
            "attachments": {},
            "cell_type": "markdown",
            "metadata": {},
            "source": [
                "**Edit the cell below so that it prints G to A in REVERSE!**"
            ]
        },
        {
            "cell_type": "code",
            "execution_count": 29,
            "metadata": {},
            "outputs": [],
            "source": [
                "# For loop that prints each item in the vector alphabet\n",
                "for(num in ) {\n",
                "    # Sets the variable letter to one element of the vector alphabet\n",
                "    letter \u003c- alphabet[num]\n",
                "    # Prints that element\n",
                "    print(letter)\n",
                "}"
            ]
        },
        {
            "attachments": {},
            "cell_type": "markdown",
            "metadata": {},
            "source": [
                "We can also write loops that don't uniformly apply the same transformation.  In the example below, each time the loop runs (for each value of i from 1 to 100) we add up all of the numbers that came before i."
            ]
        },
        {
            "cell_type": "code",
            "execution_count": 1,
            "metadata": {},
            "outputs": [],
            "source": [
                "for(i in 1:100) {\n",
                "    sum_so_far \u003c- sum(1:i)\n",
                "    print(sum_so_far)\n",
                "}"
            ]
        },
        {
            "attachments": {},
            "cell_type": "markdown",
            "metadata": {},
            "source": [
                "Here's what the first five iterations of this loop would look like if we wrote code for each step:"
            ]
        },
        {
            "cell_type": "code",
            "execution_count": 4,
            "metadata": {},
            "outputs": [],
            "source": [
                "sum_so_far \u003c- sum(1:1)\n",
                "print(sum_so_far)\n",
                "\n",
                "sum_so_far \u003c- sum(1:2)\n",
                "print(sum_so_far)\n",
                "\n",
                "sum_so_far \u003c- sum(1:3)\n",
                "print(sum_so_far)\n",
                "\n",
                "sum_so_far \u003c- sum(1:4)\n",
                "print(sum_so_far)\n",
                "\n",
                "sum_so_far \u003c- sum(1:5)\n",
                "print(sum_so_far)"
            ]
        },
        {
            "attachments": {},
            "cell_type": "markdown",
            "metadata": {},
            "source": [
                "Let's try some of your own.\n",
                "\n",
                "**Write a for-loop that runs from 2 to 100, and always prints one less than the current value of the counter variable (i.e. when i is 2, it prints 1, when i is 3 it prints 2)**"
            ]
        },
        {
            "cell_type": "code",
            "execution_count": 0,
            "metadata": {},
            "outputs": [],
            "source": [
                "for(i in ) {\n",
                "   \n",
                "}"
            ]
        },
        {
            "attachments": {},
            "cell_type": "markdown",
            "metadata": {},
            "source": [
                "**Write a for-loop that, for each value of i between 1 and 100, adds up the numbers from 100 to i (for example, when i = 1, add all numbers between 100 and 1, when i = 2, add all numbers between 100 and 2.  As a reminder, you can use sum over a vector defined 1:100.**"
            ]
        },
        {
            "cell_type": "code",
            "execution_count": 6,
            "metadata": {},
            "outputs": [],
            "source": [
                "for(i in 1:100) {\n",
                "\n",
                "}"
            ]
        },
        {
            "attachments": {},
            "cell_type": "markdown",
            "metadata": {},
            "source": [
                "## If Statements\n",
                "As we discussed in class, if and if-else statements help us to evaluate whether something is true.\n",
                "\n",
                "For example, the code below tests whether a number is \u003e 5"
            ]
        },
        {
            "attachments": {},
            "cell_type": "markdown",
            "metadata": {},
            "source": [
                "**Before you edit the cell below, describe what you think will happen when you store the numbers 1, 5 and 10 in my_number (not all at once - first 1, then 5, then 10).  Then run the cell with each of those numbers.  Did the output match what you expected?**"
            ]
        },
        {
            "attachments": {},
            "cell_type": "markdown",
            "metadata": {},
            "source": [
                ""
            ]
        },
        {
            "cell_type": "code",
            "execution_count": 2,
            "metadata": {},
            "outputs": [],
            "source": [
                "# Enter your own number here\n",
                "my_number \u003c- \n",
                "\n",
                "# A control structure that returns something if the number is greater than 5\n",
                "if(my_number \u003e 5) {\n",
                "    print(\"This number is greater than 5!\")\n",
                "}"
            ]
        },
        {
            "attachments": {},
            "cell_type": "markdown",
            "metadata": {},
            "source": [
                "This test only evaluates one thing - it gives us back something if that thing is true.  If we want an alternative, we need to include an else.  For example:"
            ]
        },
        {
            "attachments": {},
            "cell_type": "markdown",
            "metadata": {},
            "source": [
                "**Before you edit the cell below, describe what you think will happen when you store the numbers 1, 5 and 10 in my_number (not all at once - first 1, then 5, then 10).  Then run the cell with each of those numbers.  Did the output match what you expected?**"
            ]
        },
        {
            "attachments": {},
            "cell_type": "markdown",
            "metadata": {},
            "source": [
                ""
            ]
        },
        {
            "cell_type": "code",
            "execution_count": 0,
            "metadata": {},
            "outputs": [],
            "source": [
                "# Enter your own number here\n",
                "my_number \u003c- \n",
                "\n",
                "if(my_number \u003e 5) {\n",
                "    print(\"This number is greater than 5!\")\n",
                "} else {\n",
                "    print(\"This number is not greater than 5!\")\n",
                "}"
            ]
        },
        {
            "attachments": {},
            "cell_type": "markdown",
            "metadata": {},
            "source": [
                "So, the structure for if and if else statements is:"
            ]
        },
        {
            "cell_type": "code",
            "execution_count": 0,
            "metadata": {},
            "outputs": [],
            "source": [
                "# DO NOT RUN THIS CODE - JUST AN EXAMPLE\n",
                "if(thing to test) {\n",
                "    do something if the test is true\n",
                "} else { # It's REALLY important that the else is on the same line as the {\n",
                "    do something else\n",
                "}"
            ]
        },
        {
            "attachments": {},
            "cell_type": "markdown",
            "metadata": {},
            "source": [
                "R will work through these statements until it comes to an else, or ends.  So we could have multiple ifs:"
            ]
        },
        {
            "attachments": {},
            "cell_type": "markdown",
            "metadata": {},
            "source": [
                "**Before you edit the cell below, describe what you think will happen when you store the numbers 1, 5 and 10 in my_number (not all at once - first 1, then 5, then 10).  Then run the cell with each of those numbers.  Did the output match what you expected?**"
            ]
        },
        {
            "attachments": {},
            "cell_type": "markdown",
            "metadata": {},
            "source": [
                ""
            ]
        },
        {
            "cell_type": "code",
            "execution_count": 5,
            "metadata": {},
            "outputs": [],
            "source": [
                "# Enter your own number here\n",
                "my_number \u003c- \n",
                "\n",
                "if(my_number \u003e 5) {\n",
                "    print(\"This number is greater than 5!\")\n",
                "} \n",
                "if(my_number \u003e 10) {\n",
                "    print(\"It is also greater than 10!\")\n",
                "} else {\n",
                "    print(\"This is a pretty small number\")\n",
                "}"
            ]
        },
        {
            "attachments": {},
            "cell_type": "markdown",
            "metadata": {},
            "source": [
                "## Merging Control Structures\n",
                "\n",
                "We can try out a conditional in a for-loop:\n",
                "\n",
                "First, we need to know how many times to loop. To do this, we need the number of rows in our data frame:"
            ]
        },
        {
            "cell_type": "code",
            "execution_count": 0,
            "metadata": {},
            "outputs": [],
            "source": [
                "row_count \u003c- nrow(donors)"
            ]
        },
        {
            "attachments": {},
            "cell_type": "markdown",
            "metadata": {},
            "source": [
                "We then need to figure out what we want to do inside our loop. Let's start by printing just the first name of each donor.\n",
                "\n",
                "If we wanted to print just the nth donor name, we'd use the following code:"
            ]
        },
        {
            "cell_type": "code",
            "execution_count": 0,
            "metadata": {},
            "outputs": [],
            "source": [
                "# Set this number to pick the row to print\n",
                "num_to_print \u003c- \n",
                "\n",
                "print(donors$First[num_to_print])"
            ]
        },
        {
            "attachments": {},
            "cell_type": "markdown",
            "metadata": {},
            "source": [
                "Since the counter variable cycles through each number in the range of a for-loop, we can combine the two preceding code cells:"
            ]
        },
        {
            "cell_type": "code",
            "execution_count": 0,
            "metadata": {},
            "outputs": [],
            "source": [
                "for(row_num in 1:row_count){\n",
                "    print(donors$First[row_num])\n",
                "}"
            ]
        },
        {
            "attachments": {},
            "cell_type": "markdown",
            "metadata": {},
            "source": [
                "We can also manipulate data within dataframes.  So, if I wanted to multiply the amount of money donated by 100, I could create a new column to hold my new information, and then loop through, adding information to that column:"
            ]
        },
        {
            "cell_type": "code",
            "execution_count": 0,
            "metadata": {},
            "outputs": [],
            "source": [
                "# Create an empty column, store all 0s in it\n",
                "donors$Amount_in_cents \u003c- 0\n",
                "\n",
                "# Loop through every row of the dataframe\n",
                "for(row_num in 1:row_count){\n",
                "    # Store the Amount value from each row in my loop in a dataframe\n",
                "    Amount \u003c- donors$Amount[row_num]\n",
                "    # Multiply that number by 100 to get the total cents\n",
                "    Amount_converted_to_cents \u003c- Amount * 100\n",
                "    # Store the number of cents in my new column, at the appropriate row\n",
                "    donors$Amount_in_cents[row_num] \u003c- Amount_converted_to_cents\n",
                "}\n",
                "# Look at the first rows of the dataframe\n",
                "head(donors)"
            ]
        },
        {
            "cell_type": "code",
            "execution_count": 0,
            "metadata": {},
            "outputs": [],
            "source": [
                ""
            ]
        },
        {
            "attachments": {},
            "cell_type": "markdown",
            "metadata": {},
            "source": [
                "**OK - let's try putting together if/else statements and for loops. Create an empty column to hold a boolean value - TRUE if the donor lived in Cumberland County, and FALSE if they didn't.  Then write a for-loop that performs that evaluation. (hint: you'll need to use the %in% operator)**"
            ]
        },
        {
            "cell_type": "code",
            "execution_count": 0,
            "metadata": {},
            "outputs": [],
            "source": [
                "# Create an empty coloumn to hold your evaluation of whether a person lived in Cumberland\n",
                "\n",
                "# Start a for-loop that counts from 1 to the numnber of rows in your donor dataframe\n",
                "\n",
                "# For each row, evaluate whether the location is in Cumberland county\n",
                "\n",
                "# Store that evaluation in the appropriate row of your new column"
            ]
        },
        {
            "attachments": {},
            "cell_type": "markdown",
            "metadata": {},
            "source": [
                "**In the text cell below, speculate about when it would be helpful to use a for-loop to create a boolean column, and when you would be better off dividing your data into two subsets.**"
            ]
        },
        {
            "attachments": {},
            "cell_type": "markdown",
            "metadata": {},
            "source": [
                ""
            ]
        },
        {
            "attachments": {},
            "cell_type": "markdown",
            "metadata": {},
            "source": [
                "# Part III: Reporting out\n",
                "\n",
                "Describe how each coding partner contributed to the code-writing process.  Remember that these assignments require you to collaborate, not just divide the work."
            ]
        },
        {
            "attachments": {},
            "cell_type": "markdown",
            "metadata": {},
            "source": [
                ""
            ]
        }
    ]
}
