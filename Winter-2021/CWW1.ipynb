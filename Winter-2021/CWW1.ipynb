{
    "metadata": {
        "kernelspec": {
            "name": "ir",
            "display_name": "R",
            "language": "R"
        }
    },
    "nbformat": 4,
    "nbformat_minor": 2,
    "cells": [
        {
            "attachments": {},
            "cell_type": "markdown",
            "metadata": {},
            "source": [
                "# About CWW (Code Writing Worksheet) # 1\n",
                "For this assignment, you'll be working with a partner.  You can both work in this document at the same time, but you should be clear on your roles. \n",
                "\n",
                "**Instructions:**\n",
                "1. Either your partner or you should use the fork button ![fork button](http://shroutdocs.org/images/DCS204_F2020/fork.png) to make a copy of this workspace. \n",
                "2. Whoever made the copy should share the workspace with your partner and with me.\n",
                "3. Answer the questions in the worksheet. Some of the parts of it require writing code.  Some parts require writing an explanation in a text cell.  Some of the steps require reading and summarizing.\n",
                "4. Finally, check to make sure that all of your code and text cells ran correctly, and that there are no extraneous cells. No need to submit anything - I'll begin checking your worksheets after they are due.\n",
                "\n",
                "This assignment is based on the text and code from Chapter 2 of W.N. Venables, D.M. Smith and the R Core Team, *An Introduction to R*.  To further explore the textbook, go [here](https://cran.r-project.org/doc/manuals/R-intro.pdf)"
            ]
        },
        {
            "attachments": {},
            "cell_type": "markdown",
            "metadata": {},
            "source": [
                "**For this worksheet, one person will be the driver (who writes code) and the other person will be the navigator (who recommends a course of action.  For this first assignment, the person with _the least_ programming experience should be the driver**"
            ]
        },
        {
            "attachments": {},
            "cell_type": "markdown",
            "metadata": {},
            "source": [
                "Use the space below to identify who was driving (writing code) for this notebook:"
            ]
        },
        {
            "attachments": {},
            "cell_type": "markdown",
            "metadata": {},
            "source": [
                ""
            ]
        },
        {
            "attachments": {},
            "cell_type": "markdown",
            "metadata": {},
            "source": [
                "Use the space below to identify who was navigating (talking through the code and recommending a course of action) for this notebook:"
            ]
        },
        {
            "attachments": {},
            "cell_type": "markdown",
            "metadata": {},
            "source": [
                ""
            ]
        },
        {
            "attachments": {},
            "cell_type": "markdown",
            "metadata": {},
            "source": [
                "## Concepts\n",
                "\n",
                "ed notebooks allow you to add things called cells, which can hold either formatted text (called \"markdown\") or R code.  This notebook is already formatted for R, so all of the cells will default to R code.\n",
                "\n",
                "Below, you will find a list of important concepts covered in the videos you watched before you met.  For each, complete the following:\n",
                "1. Add an empty text cell below the concept. \n",
                "2. Edit each empty cell to add a definition of the concept. \n",
                "\n",
                "If you want to read  more about markdown, you can explore the tutorial [here](https://github.com/adam-p/markdown-here/wiki/Markdown-Cheatsheet#links).\n",
                "\n",
                "**If you are already familiar with these concepts, it is your responsibility to help your partner be familiar with them.**"
            ]
        },
        {
            "attachments": {},
            "cell_type": "markdown",
            "metadata": {},
            "source": [
                "Cell"
            ]
        },
        {
            "attachments": {},
            "cell_type": "markdown",
            "metadata": {},
            "source": [
                "Notebook"
            ]
        },
        {
            "attachments": {},
            "cell_type": "markdown",
            "metadata": {},
            "source": [
                "Assignment"
            ]
        },
        {
            "attachments": {},
            "cell_type": "markdown",
            "metadata": {},
            "source": [
                "Structure"
            ]
        },
        {
            "attachments": {},
            "cell_type": "markdown",
            "metadata": {},
            "source": [
                "Variable"
            ]
        },
        {
            "attachments": {},
            "cell_type": "markdown",
            "metadata": {},
            "source": [
                "Arguments"
            ]
        },
        {
            "attachments": {},
            "cell_type": "markdown",
            "metadata": {},
            "source": [
                "Function"
            ]
        },
        {
            "attachments": {},
            "cell_type": "markdown",
            "metadata": {},
            "source": [
                "## Playing around in R\n",
                "\n",
                "R can do many things, but one of its most basic functions is as a calculator.\n",
                "\n",
                "Typing a mathematical expression and clicking \"Run All\" or pressing the Return and Control keys gives you an answer.  Try below."
            ]
        },
        {
            "cell_type": "code",
            "execution_count": 1,
            "metadata": {},
            "outputs": [
                {
                    "data": {
                        "text/html": "3",
                        "text/latex": "3",
                        "text/markdown": "3",
                        "text/plain": "[1] 3"
                    },
                    "metadata": {},
                    "output_type": "display_data"
                }
            ],
            "source": [
                "1 + 2"
            ]
        },
        {
            "cell_type": "code",
            "execution_count": 2,
            "metadata": {},
            "outputs": [
                {
                    "data": {
                        "text/html": "6",
                        "text/latex": "6",
                        "text/markdown": "6",
                        "text/plain": "[1] 6"
                    },
                    "metadata": {},
                    "output_type": "display_data"
                }
            ],
            "source": [
                "2 * 3"
            ]
        },
        {
            "cell_type": "code",
            "execution_count": 3,
            "metadata": {},
            "outputs": [
                {
                    "data": {
                        "text/html": "-1",
                        "text/latex": "-1",
                        "text/markdown": "-1",
                        "text/plain": "[1] -1"
                    },
                    "metadata": {},
                    "output_type": "display_data"
                }
            ],
            "source": [
                "8 - 9"
            ]
        },
        {
            "cell_type": "code",
            "execution_count": 1,
            "metadata": {},
            "outputs": [
                {
                    "data": {
                        "text/html": "1.4",
                        "text/latex": "1.4",
                        "text/markdown": "1.4",
                        "text/plain": "[1] 1.4"
                    },
                    "metadata": {},
                    "output_type": "display_data"
                }
            ],
            "source": [
                "7/5"
            ]
        },
        {
            "attachments": {},
            "cell_type": "markdown",
            "metadata": {},
            "source": [
                "R can do other math too.  Let's try to calculate the square root of 5:"
            ]
        },
        {
            "cell_type": "code",
            "execution_count": 5,
            "metadata": {},
            "outputs": [
                {
                    "data": {
                        "text/html": "2.23606797749979",
                        "text/latex": "2.23606797749979",
                        "text/markdown": "2.23606797749979",
                        "text/plain": "[1] 2.236068"
                    },
                    "metadata": {},
                    "output_type": "display_data"
                }
            ],
            "source": [
                "sqrt(5)"
            ]
        },
        {
            "attachments": {},
            "cell_type": "markdown",
            "metadata": {},
            "source": [
                "Can you calculate the number of years between 2020 and 1984?"
            ]
        },
        {
            "cell_type": "code",
            "execution_count": 6,
            "metadata": {},
            "outputs": [],
            "source": [
                ""
            ]
        },
        {
            "attachments": {},
            "cell_type": "markdown",
            "metadata": {},
            "source": [
                "What about the square root of 10?"
            ]
        },
        {
            "cell_type": "code",
            "execution_count": 7,
            "metadata": {},
            "outputs": [],
            "source": [
                ""
            ]
        },
        {
            "attachments": {},
            "cell_type": "markdown",
            "metadata": {},
            "source": [
                "What about 10 to the power of three (we haven't done this yet, but try to figure it out on your own.)"
            ]
        },
        {
            "cell_type": "code",
            "execution_count": 1,
            "metadata": {},
            "outputs": [],
            "source": [
                ""
            ]
        },
        {
            "attachments": {},
            "cell_type": "markdown",
            "metadata": {},
            "source": [
                "## Variables\n",
                "\n",
                "As we covered, variables (in programming) are a metaphor for storing information.\n",
                "\n",
                "In R, we can call a variable anything, as long as it fits the following criteria:\n",
                "* Can't start with a number\n",
                "* Can't be the same name as a function (we'll get to funnctions in a sec)\n",
                "* Can't start with punctuation\n",
                "* Can't contain spaces\n",
                "\n",
                "Here are some additional best practices:\n",
                "* Variable names should be short and meaningful (i.e. don't name a variable used to store numbers taco unless the numbers relate to tacos)\n",
                "* Variable names should be nouns\n",
                "* Use an underscore _ or a capital letter to distinguish between words in a variable name, so day_1 or dayOne\n",
                "\n",
                "Let's practice!\n",
                "\n",
                "What would you call a variable that contained different student heights?"
            ]
        },
        {
            "attachments": {},
            "cell_type": "markdown",
            "metadata": {},
            "source": [
                ""
            ]
        },
        {
            "attachments": {},
            "cell_type": "markdown",
            "metadata": {},
            "source": [
                "What about variable that contained the names of all of the students in this class?"
            ]
        },
        {
            "attachments": {},
            "cell_type": "markdown",
            "metadata": {},
            "source": [
                ""
            ]
        },
        {
            "attachments": {},
            "cell_type": "markdown",
            "metadata": {},
            "source": [
                "Create a variable called day and store in it the number of the day that you are completing this notebook."
            ]
        },
        {
            "cell_type": "code",
            "execution_count": 9,
            "metadata": {},
            "outputs": [],
            "source": [
                ""
            ]
        },
        {
            "attachments": {},
            "cell_type": "markdown",
            "metadata": {},
            "source": [
                "Now divide that variable by 30 (the number of days in September) to give you the proportion of the month we have completed so far."
            ]
        },
        {
            "cell_type": "code",
            "execution_count": 10,
            "metadata": {},
            "outputs": [],
            "source": [
                ""
            ]
        },
        {
            "attachments": {},
            "cell_type": "markdown",
            "metadata": {},
            "source": [
                "## Commenting\n",
                "\n",
                "Commenting is a practice where you leave notes for yourself or other programmers to explain what you are doing in your code.  Commenting is an essential part of professional code-writing practice.  You comment in R by starting a line with a pound sign (#)\n",
                "\n",
                "Text that comes after a # in R isn't treated as code, but rather as a comment.\n",
                "\n",
                "Run the cell below to see what I mean."
            ]
        },
        {
            "cell_type": "code",
            "execution_count": 11,
            "metadata": {},
            "outputs": [
                {
                    "data": {
                        "text/html": "5",
                        "text/latex": "5",
                        "text/markdown": "5",
                        "text/plain": "[1] 5"
                    },
                    "metadata": {},
                    "output_type": "display_data"
                }
            ],
            "source": [
                "# This code assigns the number 10 to the variable x\n",
                "x \u003c- 10\n",
                "\n",
                "# This code divides the contents of the variable x by 2\n",
                "x/2"
            ]
        },
        {
            "attachments": {},
            "cell_type": "markdown",
            "metadata": {},
            "source": [
                "## Practice Problems\n",
                "I've included a few problems that ask you to assign identifiers to variables, and then manipulate those variables.\n",
                "\n",
                "Let's start with a demonstration of how to solve the following problem:\n",
                "\n",
                "*Estimate the average number of square inches of Commons pizza consumed by a student at Bates College during one semester.*"
            ]
        },
        {
            "attachments": {},
            "cell_type": "markdown",
            "metadata": {},
            "source": [
                "I would begin by defining the easy variables - those that represent the number of students at Bates, the number of days in a semester, and square inches per pizza."
            ]
        },
        {
            "cell_type": "code",
            "execution_count": 12,
            "metadata": {},
            "outputs": [],
            "source": [
                "# Number of students, number of days in a semester and square inches is easy\n",
                "\n",
                "# The number of students comes from the Bates website\n",
                "num_students \u003c- 1735\n",
                "\n",
                "# The number of days in a semester is a simple calculation (which R supports)\n",
                "# * signifies a multiplier, ^ is an exponent, / is a divisor\n",
                "days_semester \u003c- 13*7\n",
                "\n",
                "# The number of square inches in a pizza, presuming a 14\" diameter\n",
                "# You can add constants to your variables (in this case, R knows pi)\n",
                "inches_pizza \u003c- pi*(7^2)"
            ]
        },
        {
            "attachments": {},
            "cell_type": "markdown",
            "metadata": {},
            "source": [
                "Test whether these variables successfully captured the numbers they were meant to by running the code below. (Entering the name of a variable should return the content of that variable)"
            ]
        },
        {
            "cell_type": "code",
            "execution_count": 1,
            "metadata": {},
            "outputs": [
                {
                    "ename": "ERROR",
                    "evalue": "Error in eval(expr, envir, enclos): object 'num_students' not found\n",
                    "output_type": "error",
                    "traceback": [
                        "Error in eval(expr, envir, enclos): object 'num_students' not found\nTraceback:\n"
                    ]
                }
            ],
            "source": [
                "num_students\n",
                "days_semester\n",
                "inches_pizza"
            ]
        },
        {
            "attachments": {},
            "cell_type": "markdown",
            "metadata": {},
            "source": [
                "Now comes the hard part - estimating the number of pizzas eaten on campus each day. It sometimes helps to write out our assumptions:\n",
                "\n",
                "*When I have gone to Commons, during the lunch rush, it seems like a new pizza is put out about every 5 minutes. This means 12 pizzas/hour.  I am also going to assume that the lunch rush lasts from 10:50 to 2:20, and that a similar quantity of pizza is consumed at dinner between 4:00 and 7:30.  So I need to define variables for length of \"rush\" times, and one for the number of pizzas produced during those hours.*"
            ]
        },
        {
            "cell_type": "code",
            "execution_count": 14,
            "metadata": {},
            "outputs": [],
            "source": [
                "# Define variables for \"rush\" and pizzas consumed during \"rush\" times.\n",
                "\n",
                "# Each of the rush times seems to be 3.5 hours long\n",
                "rush_time \u003c- 3.5 + 3.5\n",
                "\n",
                "# The number of pizzas produced during rush times is the total number of pizzas times 4\n",
                "# You can include other variables in the creation of new variables\n",
                "pizzas_rush \u003c- rush_time*12"
            ]
        },
        {
            "attachments": {},
            "cell_type": "markdown",
            "metadata": {},
            "source": [
                "Now we can put this all together.  I'm going to use the **print()** function, which we met in the videos, to remind us what each of these numbers means\n",
                ""
            ]
        },
        {
            "cell_type": "code",
            "execution_count": 15,
            "metadata": {},
            "outputs": [
                {
                    "name": "stdout",
                    "output_type": "stream",
                    "text": "[1] \"Total square inches of pizza eaten each semester:\"\n[1] \"Total square inches of pizza per student each semester:\"\n"
                },
                {
                    "data": {
                        "text/html": "1176702.37795798",
                        "text/latex": "1176702.37795798",
                        "text/markdown": "1176702.37795798",
                        "text/plain": "[1] 1176702"
                    },
                    "metadata": {},
                    "output_type": "display_data"
                },
                {
                    "data": {
                        "text/html": "678.214627065117",
                        "text/latex": "678.214627065117",
                        "text/markdown": "678.214627065117",
                        "text/plain": "[1] 678.2146"
                    },
                    "metadata": {},
                    "output_type": "display_data"
                }
            ],
            "source": [
                "# Total square inches of pizza eaten each semester:\n",
                "print(\"Total square inches of pizza eaten each semester:\")\n",
                "pizzas_rush*inches_pizza*days_semester\n",
                "\n",
                "# Total square inches of pizza per student:\n",
                "print(\"Total square inches of pizza per student each semester:\")\n",
                "(pizzas_rush*inches_pizza*days_semester)/num_students\n",
                ""
            ]
        },
        {
            "attachments": {},
            "cell_type": "markdown",
            "metadata": {},
            "source": [
                "Now you try:\n",
                "\n",
                "*Estimate the total amount of time Bates students spent last semester studying for exams during the semester (not including finals)*"
            ]
        },
        {
            "attachments": {},
            "cell_type": "markdown",
            "metadata": {},
            "source": [
                "First, create a variable that contains your estimation of the total amount of time an average Bates student studies for exams each day. Explain your assumptions with a comment."
            ]
        },
        {
            "cell_type": "code",
            "execution_count": 16,
            "metadata": {},
            "outputs": [],
            "source": [
                ""
            ]
        },
        {
            "attachments": {},
            "cell_type": "markdown",
            "metadata": {},
            "source": [
                "Second, use the variable you just created to calculate the total number of hours an average student studies for exams each semester. (Use the already created days_semester variable here)."
            ]
        },
        {
            "cell_type": "code",
            "execution_count": 17,
            "metadata": {},
            "outputs": [],
            "source": [
                ""
            ]
        },
        {
            "attachments": {},
            "cell_type": "markdown",
            "metadata": {},
            "source": [
                "Third, create a final variable that contains the total time that all Bates students spent studying. This relies on the assumption that the number you calculated above represents a truly average student.  (Use the already created num_students here)."
            ]
        },
        {
            "cell_type": "code",
            "execution_count": 18,
            "metadata": {},
            "outputs": [],
            "source": [
                ""
            ]
        },
        {
            "attachments": {},
            "cell_type": "markdown",
            "metadata": {},
            "source": [
                "## Functions\n",
                "\n",
                "Last, but not least, we're going to review some of the properties of functions."
            ]
        },
        {
            "attachments": {},
            "cell_type": "markdown",
            "metadata": {},
            "source": [
                "Consider the following line of code:"
            ]
        },
        {
            "cell_type": "code",
            "execution_count": 19,
            "metadata": {},
            "outputs": [
                {
                    "name": "stdout",
                    "output_type": "stream",
                    "text": "[1] \"Hello World\"\n"
                }
            ],
            "source": [
                "print(\"Hello World\")"
            ]
        },
        {
            "attachments": {},
            "cell_type": "markdown",
            "metadata": {},
            "source": [
                "What is the function in that line of code?"
            ]
        },
        {
            "attachments": {},
            "cell_type": "markdown",
            "metadata": {},
            "source": [
                ""
            ]
        },
        {
            "cell_type": "code",
            "execution_count": 20,
            "metadata": {},
            "outputs": [],
            "source": [
                ""
            ]
        },
        {
            "attachments": {},
            "cell_type": "markdown",
            "metadata": {},
            "source": [
                "What is/are the parameter(s)?"
            ]
        },
        {
            "attachments": {},
            "cell_type": "markdown",
            "metadata": {},
            "source": [
                ""
            ]
        },
        {
            "attachments": {},
            "cell_type": "markdown",
            "metadata": {},
            "source": [
                "Consider the following line of code:"
            ]
        },
        {
            "cell_type": "code",
            "execution_count": 46,
            "metadata": {},
            "outputs": [],
            "source": [
                ""
            ]
        },
        {
            "cell_type": "code",
            "execution_count": 45,
            "metadata": {},
            "outputs": [],
            "source": [
                ""
            ]
        },
        {
            "cell_type": "code",
            "execution_count": 0,
            "metadata": {},
            "outputs": [],
            "source": [
                ""
            ]
        },
        {
            "cell_type": "code",
            "execution_count": 22,
            "metadata": {},
            "outputs": [
                {
                    "data": {
                        "text/html": "6",
                        "text/latex": "6",
                        "text/markdown": "6",
                        "text/plain": "[1] 6"
                    },
                    "metadata": {},
                    "output_type": "display_data"
                }
            ],
            "source": [
                "sum(1, 2, 3)"
            ]
        },
        {
            "attachments": {},
            "cell_type": "markdown",
            "metadata": {},
            "source": [
                "What is the function in that line of code?"
            ]
        },
        {
            "attachments": {},
            "cell_type": "markdown",
            "metadata": {},
            "source": [
                ""
            ]
        },
        {
            "attachments": {},
            "cell_type": "markdown",
            "metadata": {},
            "source": [
                "What is/are the parameter(s)?"
            ]
        },
        {
            "cell_type": "code",
            "execution_count": 23,
            "metadata": {},
            "outputs": [],
            "source": [
                ""
            ]
        },
        {
            "attachments": {},
            "cell_type": "markdown",
            "metadata": {},
            "source": [
                ""
            ]
        }
    ]
}
