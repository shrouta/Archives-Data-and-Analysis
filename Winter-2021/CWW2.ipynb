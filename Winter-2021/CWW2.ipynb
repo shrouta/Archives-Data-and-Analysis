{
    "metadata": {
        "kernelspec": {
            "name": "ir",
            "display_name": "R",
            "language": "R"
        }
    },
    "nbformat": 4,
    "nbformat_minor": 2,
    "cells": [
        {
            "attachments": {},
            "cell_type": "markdown",
            "metadata": {},
            "source": [
                "# About CWW (Code Writing Worksheet) # 2\n",
                "For this assignment, you'll be working with a partner.  You can both work in this document at the same time, but you should be clear on your roles. \n",
                "\n",
                "**Instructions:**\n",
                "1. Either your partner or you should use the fork button ![fork button](http://shroutdocs.org/images/DCS204_F2020/fork.png) to make a copy of this workspace. \n",
                "2. Whoever made the copy should share the workspace with your partner and with me.\n",
                "3. Answer the questions in the worksheet. Some of the parts of it require writing code.  Some parts require writing an explanation in a text cell.  Some of the steps require reading and summarizing.\n",
                "4. Finally, check to make sure that all of your code and text cells ran correctly, and that there are no extraneous cells. No need to submit anything - I'll begin checking your worksheets after they are due.\n",
                "\n",
                "This assignment is based on the text and code from sections 2.2, 2.4, 2.6 and 2.7 of W.N. Venables, D.M. Smith and the R Core Team, *An Introduction to R*.  To further explore the textbook, go [here](https://cran.r-project.org/doc/manuals/R-intro.pdf)"
            ]
        },
        {
            "attachments": {},
            "cell_type": "markdown",
            "metadata": {},
            "source": [
                "**For this worksheet, one person will be the driver (who writes code) and the other person will be the navigator (who recommends a course of action.  For this assignment, swap roles from the last assignment.**"
            ]
        },
        {
            "attachments": {},
            "cell_type": "markdown",
            "metadata": {},
            "source": [
                "Use the space below to identify who was driving (writing code) for this notebook:"
            ]
        },
        {
            "attachments": {},
            "cell_type": "markdown",
            "metadata": {},
            "source": [
                ""
            ]
        },
        {
            "attachments": {},
            "cell_type": "markdown",
            "metadata": {},
            "source": [
                "Use the space below to identify who was navigating (talking through the code and recommending a course of action) for this notebook:"
            ]
        },
        {
            "attachments": {},
            "cell_type": "markdown",
            "metadata": {},
            "source": [
                ""
            ]
        },
        {
            "attachments": {},
            "cell_type": "markdown",
            "metadata": {},
            "source": [
                "## Concepts\n",
                "\n",
                "Below, you will find a list of important concepts covered in the videos you watched before you met.  For each, complete the following:\n",
                "1. Add an empty text cell below the concept. \n",
                "2. Edit each empty cell to add a definition of the concept. \n",
                "\n",
                "If you want to read  more about markdown, you can explore the tutorial [here](https://github.com/adam-p/markdown-here/wiki/Markdown-Cheatsheet#links).\n",
                "\n",
                "**If you are already familiar with these concepts, it is your responsibility to help your partner be familiar with them.**"
            ]
        },
        {
            "attachments": {},
            "cell_type": "markdown",
            "metadata": {},
            "source": [
                "**Vector**"
            ]
        },
        {
            "attachments": {},
            "cell_type": "markdown",
            "metadata": {},
            "source": [
                "**\u003c**"
            ]
        },
        {
            "attachments": {},
            "cell_type": "markdown",
            "metadata": {},
            "source": [
                "**\u003c=**"
            ]
        },
        {
            "attachments": {},
            "cell_type": "markdown",
            "metadata": {},
            "source": [
                "**!=**"
            ]
        },
        {
            "attachments": {},
            "cell_type": "markdown",
            "metadata": {},
            "source": [
                "**\u0026\u0026**"
            ]
        },
        {
            "attachments": {},
            "cell_type": "markdown",
            "metadata": {},
            "source": [
                "**|**"
            ]
        },
        {
            "attachments": {},
            "cell_type": "markdown",
            "metadata": {},
            "source": [
                "**Square brackets**"
            ]
        },
        {
            "attachments": {},
            "cell_type": "markdown",
            "metadata": {},
            "source": [
                "**Subsetting**"
            ]
        },
        {
            "attachments": {},
            "cell_type": "markdown",
            "metadata": {},
            "source": [
                "***which()* function**"
            ]
        },
        {
            "attachments": {},
            "cell_type": "markdown",
            "metadata": {},
            "source": [
                "## Logical Vectors vs. Operators\n",
                "\n",
                "We have used \"Logical\" to mean several things:\n",
                "1. A vector containing TRUE / FALSE / NA\n",
                "2. An operator that relates things to one another (i.e. \u003e, \u003e=, \u003c, \u003c=, ==, !=, \u0026, |) (this is also called a conditional operator, but it produces a logical vector)\n",
                "\n",
                "An operator, applied to a vector, returns a logical vector.  \n",
                "\n",
                "Run the following cells below.  Use the empty text cell below each to explain what is happening."
            ]
        },
        {
            "cell_type": "code",
            "execution_count": 10,
            "metadata": {},
            "outputs": [
                {
                    "data": {
                        "text/html": "\u003cstyle\u003e\n.list-inline {list-style: none; margin:0; padding: 0}\n.list-inline\u003eli {display: inline-block}\n.list-inline\u003eli:not(:last-child)::after {content: \"\\00b7\"; padding: 0 .5ex}\n\u003c/style\u003e\n\u003col class=list-inline\u003e\u003cli\u003eTRUE\u003c/li\u003e\u003cli\u003eFALSE\u003c/li\u003e\u003c/ol\u003e\n",
                        "text/latex": "\\begin{enumerate*}\n\\item TRUE\n\\item FALSE\n\\end{enumerate*}\n",
                        "text/markdown": "1. TRUE\n2. FALSE\n\n\n",
                        "text/plain": "[1]  TRUE FALSE"
                    },
                    "metadata": {},
                    "output_type": "display_data"
                }
            ],
            "source": [
                "a \u003c- c(1, 10)\n",
                "logical_a \u003c- a \u003c 5\n",
                "logical_a"
            ]
        },
        {
            "attachments": {},
            "cell_type": "markdown",
            "metadata": {},
            "source": [
                "**Explain why you got the answer that you did.**"
            ]
        },
        {
            "attachments": {},
            "cell_type": "markdown",
            "metadata": {},
            "source": [
                ""
            ]
        },
        {
            "cell_type": "code",
            "execution_count": 11,
            "metadata": {},
            "outputs": [
                {
                    "data": {
                        "text/html": "\u003cstyle\u003e\n.list-inline {list-style: none; margin:0; padding: 0}\n.list-inline\u003eli {display: inline-block}\n.list-inline\u003eli:not(:last-child)::after {content: \"\\00b7\"; padding: 0 .5ex}\n\u003c/style\u003e\n\u003col class=list-inline\u003e\u003cli\u003eTRUE\u003c/li\u003e\u003cli\u003eTRUE\u003c/li\u003e\u003cli\u003eTRUE\u003c/li\u003e\u003cli\u003eFALSE\u003c/li\u003e\u003cli\u003eFALSE\u003c/li\u003e\u003cli\u003eFALSE\u003c/li\u003e\u003c/ol\u003e\n",
                        "text/latex": "\\begin{enumerate*}\n\\item TRUE\n\\item TRUE\n\\item TRUE\n\\item FALSE\n\\item FALSE\n\\item FALSE\n\\end{enumerate*}\n",
                        "text/markdown": "1. TRUE\n2. TRUE\n3. TRUE\n4. FALSE\n5. FALSE\n6. FALSE\n\n\n",
                        "text/plain": "[1]  TRUE  TRUE  TRUE FALSE FALSE FALSE"
                    },
                    "metadata": {},
                    "output_type": "display_data"
                }
            ],
            "source": [
                "b \u003c- c(2, 3, 4, 5, 6, 7)\n",
                "logical_b \u003c- b \u003c 5\n",
                "logical_b"
            ]
        },
        {
            "cell_type": "code",
            "execution_count": 12,
            "metadata": {},
            "outputs": [
                {
                    "data": {
                        "text/html": "\u003cstyle\u003e\n.list-inline {list-style: none; margin:0; padding: 0}\n.list-inline\u003eli {display: inline-block}\n.list-inline\u003eli:not(:last-child)::after {content: \"\\00b7\"; padding: 0 .5ex}\n\u003c/style\u003e\n\u003col class=list-inline\u003e\u003cli\u003eTRUE\u003c/li\u003e\u003cli\u003eFALSE\u003c/li\u003e\u003cli\u003eTRUE\u003c/li\u003e\u003cli\u003eTRUE\u003c/li\u003e\u003cli\u003eTRUE\u003c/li\u003e\u003cli\u003eFALSE\u003c/li\u003e\u003cli\u003eFALSE\u003c/li\u003e\u003cli\u003eFALSE\u003c/li\u003e\u003c/ol\u003e\n",
                        "text/latex": "\\begin{enumerate*}\n\\item TRUE\n\\item FALSE\n\\item TRUE\n\\item TRUE\n\\item TRUE\n\\item FALSE\n\\item FALSE\n\\item FALSE\n\\end{enumerate*}\n",
                        "text/markdown": "1. TRUE\n2. FALSE\n3. TRUE\n4. TRUE\n5. TRUE\n6. FALSE\n7. FALSE\n8. FALSE\n\n\n",
                        "text/plain": "[1]  TRUE FALSE  TRUE  TRUE  TRUE FALSE FALSE FALSE"
                    },
                    "metadata": {},
                    "output_type": "display_data"
                }
            ],
            "source": [
                "c(a, b) \u003c 5"
            ]
        },
        {
            "attachments": {},
            "cell_type": "markdown",
            "metadata": {},
            "source": [
                "**Explain why you got the answer that you did.**"
            ]
        },
        {
            "attachments": {},
            "cell_type": "markdown",
            "metadata": {},
            "source": [
                ""
            ]
        },
        {
            "cell_type": "code",
            "execution_count": 13,
            "metadata": {},
            "outputs": [
                {
                    "data": {
                        "text/html": "\u003cstyle\u003e\n.list-inline {list-style: none; margin:0; padding: 0}\n.list-inline\u003eli {display: inline-block}\n.list-inline\u003eli:not(:last-child)::after {content: \"\\00b7\"; padding: 0 .5ex}\n\u003c/style\u003e\n\u003col class=list-inline\u003e\u003cli\u003eTRUE\u003c/li\u003e\u003cli\u003eTRUE\u003c/li\u003e\u003cli\u003eTRUE\u003c/li\u003e\u003cli\u003eFALSE\u003c/li\u003e\u003cli\u003eTRUE\u003c/li\u003e\u003cli\u003eFALSE\u003c/li\u003e\u003c/ol\u003e\n",
                        "text/latex": "\\begin{enumerate*}\n\\item TRUE\n\\item TRUE\n\\item TRUE\n\\item FALSE\n\\item TRUE\n\\item FALSE\n\\end{enumerate*}\n",
                        "text/markdown": "1. TRUE\n2. TRUE\n3. TRUE\n4. FALSE\n5. TRUE\n6. FALSE\n\n\n",
                        "text/plain": "[1]  TRUE  TRUE  TRUE FALSE  TRUE FALSE"
                    },
                    "metadata": {},
                    "output_type": "display_data"
                }
            ],
            "source": [
                "logical_a_or_b \u003c- (a \u003c 5) | (b \u003c 5)\n",
                "logical_a_or_b"
            ]
        },
        {
            "attachments": {},
            "cell_type": "markdown",
            "metadata": {},
            "source": [
                "**Explain why you got the answer that you did:**\n",
                ""
            ]
        },
        {
            "attachments": {},
            "cell_type": "markdown",
            "metadata": {},
            "source": [
                ""
            ]
        },
        {
            "attachments": {},
            "cell_type": "markdown",
            "metadata": {},
            "source": [
                "## Selecting Elements from Vectors (subsetting)\n",
                "Let's start with using vectors of positive integers.\n",
                "\n",
                "The following data is based on the [Class Leaderboard and Donor Roll](https://www.bates.edu/giving/bates-fund-leaderboard/) for Bates College. \n",
                "\n",
                "Below is a vector that contains the *number* of donors from each class, starting with the class of 2020 and ending with the class of 2000.  This means that the first number represents the number of donors in the class of 2020, and the second number represents the number of donors in the class of 2019 etc.\n",
                "\n",
                "Put another way, the first number represents donors in 2020, the second represents donors in 2020-1, the third in 2020-2 ... \n",
                "\n",
                "(To see the class rankings by donations, look [here](https://www.bates.edu/giving-2018/bates-fund-leaderboard/))"
            ]
        },
        {
            "cell_type": "code",
            "execution_count": 14,
            "metadata": {},
            "outputs": [],
            "source": [
                "donors \u003c- c(210, 132, 399, 123, 97, 162, 159, 169, 155, 145, 158, 146, 157, 181, 129, 187, 140, 120, 107, 121, 128)"
            ]
        },
        {
            "attachments": {},
            "cell_type": "markdown",
            "metadata": {},
            "source": [
                "**How would you ammend the cell below to return *only* the first number (that is the donor count for 2020)?**"
            ]
        },
        {
            "cell_type": "code",
            "execution_count": 15,
            "metadata": {},
            "outputs": [
                {
                    "data": {
                        "text/html": "\u003cstyle\u003e\n.list-inline {list-style: none; margin:0; padding: 0}\n.list-inline\u003eli {display: inline-block}\n.list-inline\u003eli:not(:last-child)::after {content: \"\\00b7\"; padding: 0 .5ex}\n\u003c/style\u003e\n\u003col class=list-inline\u003e\u003cli\u003e210\u003c/li\u003e\u003cli\u003e132\u003c/li\u003e\u003cli\u003e399\u003c/li\u003e\u003cli\u003e123\u003c/li\u003e\u003cli\u003e97\u003c/li\u003e\u003cli\u003e162\u003c/li\u003e\u003cli\u003e159\u003c/li\u003e\u003cli\u003e169\u003c/li\u003e\u003cli\u003e155\u003c/li\u003e\u003cli\u003e145\u003c/li\u003e\u003cli\u003e158\u003c/li\u003e\u003cli\u003e146\u003c/li\u003e\u003cli\u003e157\u003c/li\u003e\u003cli\u003e181\u003c/li\u003e\u003cli\u003e129\u003c/li\u003e\u003cli\u003e187\u003c/li\u003e\u003cli\u003e140\u003c/li\u003e\u003cli\u003e120\u003c/li\u003e\u003cli\u003e107\u003c/li\u003e\u003cli\u003e121\u003c/li\u003e\u003cli\u003e128\u003c/li\u003e\u003c/ol\u003e\n",
                        "text/latex": "\\begin{enumerate*}\n\\item 210\n\\item 132\n\\item 399\n\\item 123\n\\item 97\n\\item 162\n\\item 159\n\\item 169\n\\item 155\n\\item 145\n\\item 158\n\\item 146\n\\item 157\n\\item 181\n\\item 129\n\\item 187\n\\item 140\n\\item 120\n\\item 107\n\\item 121\n\\item 128\n\\end{enumerate*}\n",
                        "text/markdown": "1. 210\n2. 132\n3. 399\n4. 123\n5. 97\n6. 162\n7. 159\n8. 169\n9. 155\n10. 145\n11. 158\n12. 146\n13. 157\n14. 181\n15. 129\n16. 187\n17. 140\n18. 120\n19. 107\n20. 121\n21. 128\n\n\n",
                        "text/plain": " [1] 210 132 399 123  97 162 159 169 155 145 158 146 157 181 129 187 140 120 107\n[20] 121 128"
                    },
                    "metadata": {},
                    "output_type": "display_data"
                }
            ],
            "source": [
                "donors[ ]"
            ]
        },
        {
            "attachments": {},
            "cell_type": "markdown",
            "metadata": {},
            "source": [
                "**What do the brackets, and whatever you put in them mean/do?**"
            ]
        },
        {
            "attachments": {},
            "cell_type": "markdown",
            "metadata": {},
            "source": [
                ""
            ]
        },
        {
            "attachments": {},
            "cell_type": "markdown",
            "metadata": {},
            "source": [
                "**Write a snippet of code that selects *only* the second through seventh numbers (that is, the donor counts for 2019-2014)**"
            ]
        },
        {
            "cell_type": "code",
            "execution_count": 16,
            "metadata": {},
            "outputs": [],
            "source": [
                ""
            ]
        },
        {
            "attachments": {},
            "cell_type": "markdown",
            "metadata": {},
            "source": [
                "**Edit the code below so that you select *only* the 1st, 3rd, 5th, 7th, 9th, 11th, 13th, 15th, 17th, 19th and 21st numbers (that is, the donor counts for 2020, 2018, 2016, 2014, 2012, 2010, 2008, 2006, 2004, 2002 and 2000).**\n",
                "\n",
                "**(Hint: you'll have to use the c() function to concatenate numbers that don't abut each other)**"
            ]
        },
        {
            "cell_type": "code",
            "execution_count": 17,
            "metadata": {},
            "outputs": [
                {
                    "data": {
                        "text/html": "\u003cstyle\u003e\n.list-inline {list-style: none; margin:0; padding: 0}\n.list-inline\u003eli {display: inline-block}\n.list-inline\u003eli:not(:last-child)::after {content: \"\\00b7\"; padding: 0 .5ex}\n\u003c/style\u003e\n\u003col class=list-inline\u003e\u003cli\u003e210\u003c/li\u003e\u003cli\u003e399\u003c/li\u003e\u003cli\u003e97\u003c/li\u003e\u003cli\u003e159\u003c/li\u003e\u003cli\u003e155\u003c/li\u003e\u003c/ol\u003e\n",
                        "text/latex": "\\begin{enumerate*}\n\\item 210\n\\item 399\n\\item 97\n\\item 159\n\\item 155\n\\end{enumerate*}\n",
                        "text/markdown": "1. 210\n2. 399\n3. 97\n4. 159\n5. 155\n\n\n",
                        "text/plain": "[1] 210 399  97 159 155"
                    },
                    "metadata": {},
                    "output_type": "display_data"
                }
            ],
            "source": [
                "donors[c(1, 3, 5, 7, 9)]"
            ]
        },
        {
            "attachments": {},
            "cell_type": "markdown",
            "metadata": {},
            "source": [
                "Write a code snippet below so that you select only the 2st, 4rd, 6th, 8th, 10th, and 12th, numbers (that is, the donor counts for 2019, 2017, 2015, 2013, 2011, 2009)."
            ]
        },
        {
            "cell_type": "code",
            "execution_count": 18,
            "metadata": {},
            "outputs": [
                {
                    "ename": "ERROR",
                    "evalue": "Error in donors[c(is)]: invalid subscript type 'list'\n",
                    "output_type": "error",
                    "traceback": [
                        "Error in donors[c(is)]: invalid subscript type 'list'\nTraceback:\n"
                    ]
                }
            ],
            "source": [
                "donors[c(is)]"
            ]
        },
        {
            "attachments": {},
            "cell_type": "markdown",
            "metadata": {},
            "source": [
                "## Using TRUE/FALSE vectors\n",
                "\n",
                "In class, we produced logical vectors by feeding a vector into a comparrison operator (==, !=, \u003c= , \u003c, \u003e=, \u003e)\n",
                "\n",
                "Edit the cell below to return a logical vector that is TRUE for every class with more than 150 donors."
            ]
        },
        {
            "cell_type": "code",
            "execution_count": 10,
            "metadata": {},
            "outputs": [
                {
                    "ename": "ERROR",
                    "evalue": "Error in parse(text = x, srcfile = src): \u003ctext\u003e:1:8: unexpected numeric constant\n1: donors 150\n           ^\n",
                    "output_type": "error",
                    "traceback": [
                        "Error in parse(text = x, srcfile = src): \u003ctext\u003e:1:8: unexpected numeric constant\n1: donors 150\n           ^\nTraceback:\n"
                    ]
                }
            ],
            "source": [
                "donors 150"
            ]
        },
        {
            "attachments": {},
            "cell_type": "markdown",
            "metadata": {},
            "source": [
                "Store that logical vector in a variable called greater_150"
            ]
        },
        {
            "cell_type": "code",
            "execution_count": 0,
            "metadata": {},
            "outputs": [],
            "source": [
                "greater_150"
            ]
        },
        {
            "attachments": {},
            "cell_type": "markdown",
            "metadata": {},
            "source": [
                "**What happens when you use this new variable inside a set of square brackets?  Run the cell below, and then explain your output.**"
            ]
        },
        {
            "cell_type": "code",
            "execution_count": 0,
            "metadata": {},
            "outputs": [],
            "source": [
                "donors[greater_150]"
            ]
        },
        {
            "attachments": {},
            "cell_type": "markdown",
            "metadata": {},
            "source": [
                ""
            ]
        },
        {
            "attachments": {},
            "cell_type": "markdown",
            "metadata": {},
            "source": [
                "## Using the **which()** function\n",
                "You *can* always store your logical vector in a variable, and then use that variable to keep (or subset) your vector.  However, knowing that a comparrison operator produces a logical vector means that you can use the **which()** function to subset a vector *without* storing a logical vector in a new variable.\n",
                "\n",
                "Run each of the cells below.  Use the empty text cell to explain what happened."
            ]
        },
        {
            "cell_type": "code",
            "execution_count": 0,
            "metadata": {},
            "outputs": [],
            "source": [
                "greater_150 \u003c- donors \u003e 150"
            ]
        },
        {
            "cell_type": "code",
            "execution_count": 0,
            "metadata": {},
            "outputs": [],
            "source": [
                "which(donors \u003e 150)"
            ]
        },
        {
            "cell_type": "code",
            "execution_count": 0,
            "metadata": {},
            "outputs": [],
            "source": [
                "donors[greater_150]"
            ]
        },
        {
            "cell_type": "code",
            "execution_count": 0,
            "metadata": {},
            "outputs": [],
            "source": [
                "donors[which(donors \u003e 150)]"
            ]
        },
        {
            "attachments": {},
            "cell_type": "markdown",
            "metadata": {},
            "source": [
                ""
            ]
        },
        {
            "attachments": {},
            "cell_type": "markdown",
            "metadata": {},
            "source": [
                "## Working with our data\n",
                "\n",
                "Go to the [sheet with the first CWW pairings](https://docs.google.com/spreadsheets/d/1ryI3IcWf1YZdzSTLjKpLKzhDkQvnzql-gVy_bvrnrZk/edit?usp=sharing).  Next to your names, you should see a link that takes you to an image of one of the cotton invoices.\n",
                "\n",
                "Each invoice has one (or more) lists of weights of cotton bales. Your list of bales is circled.\n",
                "\n",
                "**REMEMBER: These invoices contain the weight of individual bales AND ALSO the total weights of some subset of the bales.  ONLY FOCUS ON THE INDIVIDUAL WEIGHTS (which should be ~500 lbs)**\n",
                "\n",
                "**ALSO REMEMBER: Comment all of your code.**\n",
                "\n",
                "Begin by storing the weights of *all* of your bales in a variable (it will help here if the navigator reads and the driver transcribes)"
            ]
        },
        {
            "cell_type": "code",
            "execution_count": 0,
            "metadata": {},
            "outputs": [],
            "source": [
                ""
            ]
        },
        {
            "attachments": {},
            "cell_type": "markdown",
            "metadata": {},
            "source": [
                "Create a new variable that divides the cotton weights by 150.  This variable now contains the number of days of labor that were stolen from enslaved people to pick each bale of cotton."
            ]
        },
        {
            "cell_type": "code",
            "execution_count": 0,
            "metadata": {},
            "outputs": [],
            "source": [
                "c/150"
            ]
        },
        {
            "attachments": {},
            "cell_type": "markdown",
            "metadata": {},
            "source": [
                "Create a new variable that multiplies the cotton weights by the price that it was sold for.  This variable now contains the amount of money that was made from the stolen labor of enslaved people (not accounting for the various fees associated with that cotton)"
            ]
        },
        {
            "cell_type": "code",
            "execution_count": 0,
            "metadata": {},
            "outputs": [],
            "source": [
                ""
            ]
        },
        {
            "attachments": {},
            "cell_type": "markdown",
            "metadata": {},
            "source": [
                "Create a new variable that sums all of the costs from the cell above.  Multiply that value by .1.  When cotton manufacturers sold finished goods in the 19th century, they tended to make a 10% profit (this is generalized). The output of this calculation is the amount of money that the Bates Mill company was likely to have made on the purchase of this cotton."
            ]
        },
        {
            "cell_type": "code",
            "execution_count": 0,
            "metadata": {},
            "outputs": [],
            "source": [
                ""
            ]
        },
        {
            "attachments": {},
            "cell_type": "markdown",
            "metadata": {},
            "source": [
                "Finally, use [this link](https://www.measuringworth.com/calculators/ppowerus/index2.php) to convert the net profit from the cell above from 1854 dollars to 2021 dollars. How much would Bates's profit be worth today?"
            ]
        }
    ]
}
