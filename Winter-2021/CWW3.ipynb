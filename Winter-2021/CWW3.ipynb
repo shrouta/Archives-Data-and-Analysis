{
    "metadata": {
        "kernelspec": {
            "name": "ir",
            "display_name": "R",
            "language": "R"
        }
    },
    "nbformat": 4,
    "nbformat_minor": 2,
    "cells": [
        {
            "attachments": {},
            "cell_type": "markdown",
            "metadata": {},
            "source": [
                "# About CWW (Code Writing Worksheet) # 3\n",
                "For this assignment, you'll be working with a NEW partner.  You can both be in this document at the same time, but only one should write code and run cells. \n",
                "\n",
                "**Instructions:**\n",
                "1. Either your partner or you should use the fork button ![fork button](http://shroutdocs.org/images/DCS204_F2020/fork.png) to make a copy of this workspace. \n",
                "2. Whoever made the copy should share the workspace with your partner.  NO NEED TO SHARE IT WITH ME.\n",
                "3. Answer the questions in the worksheet. Some of the parts of it require writing code.  Some parts require writing an explanation in a text cell.  Some of the steps require reading and summarizing.\n",
                "4. Finally, check to make sure that all of your code and text cells ran correctly, and that there are no extraneous cells. No need to submit anything - I'll begin checking your worksheets after they are due.\n",
                "\n",
                "This assignment is based on the text and code from sections 5.1, 5.2 and 5.3 of W.N. Venables, D.M. Smith and the R Core Team, *An Introduction to R*.  To further explore the textbook, go [here](https://cran.r-project.org/doc/manuals/R-intro.pdf)"
            ]
        },
        {
            "attachments": {},
            "cell_type": "markdown",
            "metadata": {},
            "source": [
                "**For this worksheet, one person will be the driver (who writes code) and the other person will be the navigator (who recommends a course of action.  ONLY THE DRIVER SHOULD RUN CELLS - TWO PEOPLE RUNNING CELLS AT THE SAME TIME CAUSES PROBLEMS.**  \n",
                "\n",
                "**For this assignment, the person with the least code-writing experience should be the driver.**"
            ]
        },
        {
            "attachments": {},
            "cell_type": "markdown",
            "metadata": {},
            "source": [
                "Use the space below to identify who was driving (writing code) for this notebook:"
            ]
        },
        {
            "attachments": {},
            "cell_type": "markdown",
            "metadata": {},
            "source": [
                ""
            ]
        },
        {
            "attachments": {},
            "cell_type": "markdown",
            "metadata": {},
            "source": [
                "Use the space below to identify who was navigating (talking through the code and recommending a course of action) for this notebook:"
            ]
        },
        {
            "attachments": {},
            "cell_type": "markdown",
            "metadata": {},
            "source": [
                ""
            ]
        },
        {
            "cell_type": "code",
            "execution_count": 9,
            "metadata": {},
            "outputs": [],
            "source": [
                ""
            ]
        },
        {
            "attachments": {},
            "cell_type": "markdown",
            "metadata": {},
            "source": [
                "## Working with our data\n",
                "\n",
                "Go to the [sheet with the second CWW pairings](https://docs.google.com/spreadsheets/d/1WC_s3CWYFmHvBq0w76ts2D-nh1ogfFBtg-h4gvTLXV0/edit?usp=sharing).  Next to your names, you should see a link that takes you to an image of one page of the ledger and a link that takes you to an empty google sheet.\n",
                "\n",
                "This will probably take more than an hour - so budget time accordingly.  Working together, enter the following data, making sure to follow the instructions here and in the column headings of your google doc.  For each of these, if there is not information (for example, John Smith doesn't have a middle intial, leave the spreadsheet cell blank.)\n",
                "* first name - the donor's first name, in **lowercase.**\n",
                "* last name - the donor's last name, in **lowercase.**\n",
                "* middle initial - the donor's middle initial (if any), in **lowercase.**\n",
                "* location (if any) (for location [this list of Maine towns](https://en.wikipedia.org/wiki/List_of_towns_in_Maine) might be helpful)\n",
                "* amount of donation - the ammount of money donated **DO NOT INCLUDE A DOLLAR SIGN IN THE AMOUNT - R WILL READ THE AMOUNT AS A STRING.**  \n",
                "* In a few cases the donation does not come from a person, but rather from something like \"the sale of rail road bonds.\"  In those cases, enter the description in the Other entity column.\n",
                "\n",
                "Once you have completed your transcription, download your google doc as a .csv file (File \u003e Download \u003e Comma Seperated Values).  Re-name it Maine_State_Seminary_X.csv, where X is your group letter.\n",
                "\n",
                "Finally, drag the saved file into the files column of this notebook.\n",
                "\n",
                "Whew!  Let's get started!"
            ]
        },
        {
            "attachments": {},
            "cell_type": "markdown",
            "metadata": {},
            "source": [
                "## Concepts\n",
                "\n",
                "Below, you will find a list of important concepts covered in the videos you watched before you met.  For each, complete the following:\n",
                "1. Add an empty text cell below the concept. \n",
                "2. Edit each empty cell to add a definition of the concept. \n",
                "\n",
                "**If you are already familiar with these concepts, it is your responsibility to help your partner be familiar with them.**"
            ]
        },
        {
            "attachments": {},
            "cell_type": "markdown",
            "metadata": {},
            "source": [
                "**Two-dimensional data**"
            ]
        },
        {
            "attachments": {},
            "cell_type": "markdown",
            "metadata": {},
            "source": [
                "**Dataframe**"
            ]
        },
        {
            "attachments": {},
            "cell_type": "markdown",
            "metadata": {},
            "source": [
                "**Matrix**"
            ]
        },
        {
            "attachments": {},
            "cell_type": "markdown",
            "metadata": {},
            "source": [
                "**[ , ]**"
            ]
        },
        {
            "attachments": {},
            "cell_type": "markdown",
            "metadata": {},
            "source": [
                "**$**"
            ]
        },
        {
            "attachments": {},
            "cell_type": "markdown",
            "metadata": {},
            "source": [
                "## Reading in Data\n",
                "**Start by editing the line of code below so that it reads in your dataframe.** "
            ]
        },
        {
            "cell_type": "code",
            "execution_count": 10,
            "metadata": {},
            "outputs": [],
            "source": [
                "# Reads in  donor  data\n",
                "donors \u003c- read.csv(\"Maine_State_Seminary_X.csv\")"
            ]
        },
        {
            "attachments": {},
            "cell_type": "markdown",
            "metadata": {},
            "source": [
                "## Characteristics of a dataframe\n",
                "\n",
                "The following lines of code tell you something about the dataframe.  \n",
                "\n",
                "**Run them, then use comments in the code cell to explain what each line is doing.**"
            ]
        },
        {
            "cell_type": "code",
            "execution_count": 3,
            "metadata": {},
            "outputs": [],
            "source": [
                "dim(donors)"
            ]
        },
        {
            "cell_type": "code",
            "execution_count": 4,
            "metadata": {},
            "outputs": [],
            "source": [
                "rownames(donors)"
            ]
        },
        {
            "cell_type": "code",
            "execution_count": 5,
            "metadata": {},
            "outputs": [],
            "source": [
                "colnames(donors)"
            ]
        },
        {
            "attachments": {},
            "cell_type": "markdown",
            "metadata": {},
            "source": [
                "Let's quickly look at our dataframe.  Run the cell below to see the  dataframe."
            ]
        },
        {
            "cell_type": "code",
            "execution_count": 6,
            "metadata": {},
            "outputs": [],
            "source": [
                "donors"
            ]
        },
        {
            "attachments": {},
            "cell_type": "markdown",
            "metadata": {},
            "source": [
                "(Note - when working with large datasets, calling the data like this can crash  the notebook.  With big datasets, use the function head( ) to see just the first few lines of the dataframe). head() takes as its parameter the name of the variable containing the dataframe that you want to see the first few rows of.  Use it here to look at the first few ros of donors."
            ]
        },
        {
            "cell_type": "code",
            "execution_count": 0,
            "metadata": {},
            "outputs": [],
            "source": [
                ""
            ]
        },
        {
            "attachments": {},
            "cell_type": "markdown",
            "metadata": {},
            "source": [
                "The column names above are a bit unweildy. Here's a trick to make them easier.  Remember how the default in R is a vector?  We can use that to our advantage.  Read the commenting below, and run the cells.  **Then, use the empty text cell at the end to explain how the dataframe changed after running these cells.**"
            ]
        },
        {
            "cell_type": "code",
            "execution_count": 7,
            "metadata": {},
            "outputs": [],
            "source": [
                "# Stores the new names of columns in a vector\n",
                "donor_col_names \u003c- c(\"Year\", \"Month\", \"Day\", \"First\", \"Middle\", \"Last\", \"Other\", \"Location\", \"Amount\")"
            ]
        },
        {
            "cell_type": "code",
            "execution_count": 8,
            "metadata": {},
            "outputs": [],
            "source": [
                "# Assigns the new column names to the dataframe\n",
                "colnames(donors) \u003c- donor_col_names"
            ]
        },
        {
            "cell_type": "code",
            "execution_count": 9,
            "metadata": {},
            "outputs": [],
            "source": [
                "head(donors)"
            ]
        },
        {
            "attachments": {},
            "cell_type": "markdown",
            "metadata": {},
            "source": [
                ""
            ]
        },
        {
            "attachments": {},
            "cell_type": "markdown",
            "metadata": {},
            "source": [
                "## Introductory Subsetting\n",
                "\n",
                "Now let's practice subsetting this data.\n",
                "\n",
                "**Edit the cell below so that you get back only donors' last names. Run it to check.**"
            ]
        },
        {
            "cell_type": "code",
            "execution_count": 10,
            "metadata": {},
            "outputs": [],
            "source": [
                "donors$"
            ]
        },
        {
            "attachments": {},
            "cell_type": "markdown",
            "metadata": {},
            "source": [
                "**Now, write code that calls only the information in the first row of the last name column.**"
            ]
        },
        {
            "cell_type": "code",
            "execution_count": 11,
            "metadata": {},
            "outputs": [],
            "source": [
                "donors$ []"
            ]
        },
        {
            "attachments": {},
            "cell_type": "markdown",
            "metadata": {},
            "source": [
                "**Use square brackets o return the same information.**"
            ]
        },
        {
            "cell_type": "code",
            "execution_count": 12,
            "metadata": {},
            "outputs": [],
            "source": [
                "donors[ , ]"
            ]
        },
        {
            "attachments": {},
            "cell_type": "markdown",
            "metadata": {},
            "source": [
                "Remember that we can subset a vector using indexes?  We can do the same thing with dataframes.\n",
                "\n",
                "**Begin by storing the numbers 1, 3 and 5 in a variable called odd.**"
            ]
        },
        {
            "cell_type": "code",
            "execution_count": 13,
            "metadata": {},
            "outputs": [],
            "source": [
                ""
            ]
        },
        {
            "attachments": {},
            "cell_type": "markdown",
            "metadata": {},
            "source": [
                "**Now, edit the cell below, and use the vector odd to return only the first, third and fifth rows of the donor dataframe.**"
            ]
        },
        {
            "cell_type": "code",
            "execution_count": 0,
            "metadata": {},
            "outputs": [],
            "source": [
                "donors[ , ]"
            ]
        },
        {
            "attachments": {},
            "cell_type": "markdown",
            "metadata": {},
            "source": [
                "**Use the vector odd and edit the cell below to return only the first, third and fifth columns.**"
            ]
        },
        {
            "cell_type": "code",
            "execution_count": 15,
            "metadata": {},
            "outputs": [],
            "source": [
                "donors[ , ]"
            ]
        },
        {
            "attachments": {},
            "cell_type": "markdown",
            "metadata": {},
            "source": [
                "**Write code that returns the information stored first, third and fifth rows of the second column.**"
            ]
        },
        {
            "cell_type": "code",
            "execution_count": 16,
            "metadata": {},
            "outputs": [],
            "source": [
                "donors[ , ]"
            ]
        },
        {
            "attachments": {},
            "cell_type": "markdown",
            "metadata": {},
            "source": [
                "**Write two different lines of code that return just the first name column.**"
            ]
        },
        {
            "cell_type": "code",
            "execution_count": 17,
            "metadata": {},
            "outputs": [],
            "source": [
                "\n",
                ""
            ]
        },
        {
            "attachments": {},
            "cell_type": "markdown",
            "metadata": {},
            "source": [
                "**Store the amount column in a variable called ammounts. This variable now contains a *vector* of donation amounts.**"
            ]
        },
        {
            "cell_type": "code",
            "execution_count": 0,
            "metadata": {},
            "outputs": [],
            "source": [
                ""
            ]
        },
        {
            "attachments": {},
            "cell_type": "markdown",
            "metadata": {},
            "source": [
                "**Run the line of code below to check that the variable ammounts contains numerical data.  If it doesn't, you'll need to edit your transcription so that the donation amount column contains only numbers.**"
            ]
        },
        {
            "cell_type": "code",
            "execution_count": 0,
            "metadata": {},
            "outputs": [],
            "source": [
                "class(amount)"
            ]
        },
        {
            "attachments": {},
            "cell_type": "markdown",
            "metadata": {},
            "source": [
                "**Use the functions that we used for exploratory data analysis from last week (min(), max(), mean(), median(), unique() and hist() to evaluate this vector.  Use the text cell below to report your findings.**"
            ]
        },
        {
            "cell_type": "code",
            "execution_count": 0,
            "metadata": {},
            "outputs": [],
            "source": [
                ""
            ]
        },
        {
            "attachments": {},
            "cell_type": "markdown",
            "metadata": {},
            "source": [
                ""
            ]
        },
        {
            "attachments": {},
            "cell_type": "markdown",
            "metadata": {},
            "source": [
                "## Intermediate Subsetting\n",
                "\n",
                "So far, we've pulled out particular rows or columns.  Now we can combine that with code that returns columns based on a particular criteria.\n",
                "\n",
                "Now might be a good time to review the use of logical operators in subsetting vectors.\n",
                "\n",
                "**Start by editing the code below to return a boolean vector returning TRUE for all of the donations that are less than or equal to five dollars.**"
            ]
        },
        {
            "cell_type": "code",
            "execution_count": 18,
            "metadata": {},
            "outputs": [],
            "source": [
                "donors$Amount"
            ]
        },
        {
            "attachments": {},
            "cell_type": "markdown",
            "metadata": {},
            "source": [
                "**Now use the which() function to return the indexes of the rows for which donations are less than five.****"
            ]
        },
        {
            "cell_type": "code",
            "execution_count": 19,
            "metadata": {},
            "outputs": [],
            "source": [
                "which( )"
            ]
        },
        {
            "attachments": {},
            "cell_type": "markdown",
            "metadata": {},
            "source": [
                "**Now store those indexes in a vector called less_five**"
            ]
        },
        {
            "cell_type": "code",
            "execution_count": 20,
            "metadata": {},
            "outputs": [],
            "source": [
                "less_five \u003c- "
            ]
        },
        {
            "attachments": {},
            "cell_type": "markdown",
            "metadata": {},
            "source": [
                "**Now use that vector to subset the dataframe donors, so that you just get the rows with donations less than or equal to five.**"
            ]
        },
        {
            "cell_type": "code",
            "execution_count": 21,
            "metadata": {},
            "outputs": [],
            "source": [
                "donors[ , ]"
            ]
        },
        {
            "attachments": {},
            "cell_type": "markdown",
            "metadata": {},
            "source": [
                "Let's practice some more.  Remember that you can use == to mean exactly equal to.  Pick the name of a town from your data, preferably one that occurs more than once.\n",
                "\n",
                "**Edit the code below to create a TRUE/FALSE vector that evaluates whether each row's location is the same as the town you've selected**"
            ]
        },
        {
            "cell_type": "code",
            "execution_count": 22,
            "metadata": {},
            "outputs": [],
            "source": [
                "town_check \u003c- donors$Location "
            ]
        },
        {
            "attachments": {},
            "cell_type": "markdown",
            "metadata": {},
            "source": [
                "**Subset the donors dataframe to return just the rows that match your town.**"
            ]
        },
        {
            "cell_type": "code",
            "execution_count": 23,
            "metadata": {},
            "outputs": [],
            "source": [
                "donors[ , ]"
            ]
        },
        {
            "attachments": {},
            "cell_type": "markdown",
            "metadata": {},
            "source": [
                "But what if we wanted to get back all of the rows that are NOT the town you selected.  We can do that too.\n",
                "\n",
                "**Run the code below.  Use comments to describe what you think it is doing.**"
            ]
        },
        {
            "cell_type": "code",
            "execution_count": 24,
            "metadata": {},
            "outputs": [],
            "source": [
                "!town_check\n",
                "donors[!town_check,]"
            ]
        },
        {
            "attachments": {},
            "cell_type": "markdown",
            "metadata": {},
            "source": [
                "**Now pick a first name from your donor list (preferably one that occurs more than once.  Subset the donors dataframe to return ONLY the rows that match the first name you selected (adapt the code above).**"
            ]
        },
        {
            "cell_type": "code",
            "execution_count": 25,
            "metadata": {},
            "outputs": [],
            "source": [
                "name_check \u003c- \n",
                "donors[ , ]"
            ]
        },
        {
            "attachments": {},
            "cell_type": "markdown",
            "metadata": {},
            "source": [
                "**Now subset the donors dataframe to return only the rows that DON'T match the first name you selected.**"
            ]
        },
        {
            "cell_type": "code",
            "execution_count": 26,
            "metadata": {},
            "outputs": [],
            "source": [
                "donors[ , ]"
            ]
        },
        {
            "attachments": {},
            "cell_type": "markdown",
            "metadata": {},
            "source": [
                "I want to introduce one final kind of logical operator:\n",
                "\n",
                "%in%\n",
                "\n",
                "This operator tests whether an item in a vector.  Let's look at how it works. %in% tests whether the items in a vector also appear in another vector.  So in the example below, we're testing whether each of the numbers 1, 1, 2, 3, 5 and 8 appear in the set 2, 4, 6, 8"
            ]
        },
        {
            "cell_type": "code",
            "execution_count": 27,
            "metadata": {},
            "outputs": [],
            "source": [
                "vec1 \u003c- c(1, 1, 2, 3, 5, 8)\n",
                "vec2 \u003c- c(2, 4, 6, 8)\n",
                "vec1 %in% vec2"
            ]
        },
        {
            "attachments": {},
            "cell_type": "markdown",
            "metadata": {},
            "source": [
                "**Copy the code above, but edit it so that you are checking whether the items from vec1 appear in ALL numbers from 1 to 10.**"
            ]
        },
        {
            "cell_type": "code",
            "execution_count": 28,
            "metadata": {},
            "outputs": [],
            "source": [
                "\n",
                "\n",
                ""
            ]
        },
        {
            "attachments": {},
            "cell_type": "markdown",
            "metadata": {},
            "source": [
                "We're going to apply this to our data now, to create different datasets based on different criteria.\n",
                "\n",
                "If we wanted to create two subsets of our data - one containing donations by people with female-identified names, and one containing donations by people who don't have female identified names, we'd need to start with a set of names.  Let's practice with the Location coulm.\n",
                "\n",
                "The unique function returns all unique values in a vector (remember, R treats individual columns as vectors)"
            ]
        },
        {
            "cell_type": "code",
            "execution_count": 32,
            "metadata": {},
            "outputs": [],
            "source": [
                "unique(donors$Location)"
            ]
        },
        {
            "attachments": {},
            "cell_type": "markdown",
            "metadata": {},
            "source": [
                "Let's compare this to a vector of all Locations."
            ]
        },
        {
            "cell_type": "code",
            "execution_count": 33,
            "metadata": {},
            "outputs": [],
            "source": [
                "donors$Location"
            ]
        },
        {
            "attachments": {},
            "cell_type": "markdown",
            "metadata": {},
            "source": [
                "Now let's say that we wanted to create a vector that is just towns in Cumberland county, and test whether each of the locations is in Cumberland. (This is just the towns from the above list that are in Cumberland - not all of the towns)"
            ]
        },
        {
            "cell_type": "code",
            "execution_count": 38,
            "metadata": {},
            "outputs": [],
            "source": [
                "# Lists towns in Cumberland County\n",
                "cumberland \u003c- c(\"baldwin\", \"bridgton\", \"brunswick\", \n",
                "\"cape elizabeth\", \"casco\", \"chebeague island\", \"cumberland\", \n",
                "\"falmouth\", \"freeport\", \"frye island\", \"gorham\", \"gray\", \n",
                "\"harpswell\", \"harrison\", \"long island\", \"naples\", \"new gloucester\", \n",
                "\"north yarmouth\", \"portland\", \"pownal\", \"raymond\", \"scarborough\", \n",
                "\"sebago\", \"south portland\", \"standish\", \"westbrook\", \"windham\", \n",
                "\"yarmouth\")\n",
                "\n",
                "# Produces a logical vector testing whether items in the Locations vector are in the cumberland vector\n",
                "donors$Location %in% cumberland\n",
                "\n",
                "# Stores logical vector in a variable\n",
                "in_cumberland \u003c- donors$Location %in% cumberland"
            ]
        },
        {
            "attachments": {},
            "cell_type": "markdown",
            "metadata": {},
            "source": [
                "Finally, we can use that boolean vector to subset our dataframe, to get back only the rows where donor location is in Cumberland. \n",
                "\n",
                "Remember, we need a comma after in_cumberland because we want only the rows that meet our condition, but all of the columns."
            ]
        },
        {
            "cell_type": "code",
            "execution_count": 39,
            "metadata": {},
            "outputs": [],
            "source": [
                "donors[in_cumberland,]"
            ]
        },
        {
            "attachments": {},
            "cell_type": "markdown",
            "metadata": {},
            "source": [
                "If we wanted all of the rows that weren't in Cumberland, we can use ! (like in !=) to give us back the inverse."
            ]
        },
        {
            "cell_type": "code",
            "execution_count": 40,
            "metadata": {},
            "outputs": [],
            "source": [
                "donors[!in_cumberland,]"
            ]
        },
        {
            "attachments": {},
            "cell_type": "markdown",
            "metadata": {},
            "source": [
                "**Now, adapt the code comparing donations from Cumberland and not Cumberland to produce two dataframes that store donations made by people with names that are socially identified as female, and names that are socially identified as male.  Use your judgement.**\n",
                "\n",
                "I've added comments to guide your code-writing."
            ]
        },
        {
            "cell_type": "code",
            "execution_count": 43,
            "metadata": {},
            "outputs": [],
            "source": [
                "# Gets vector of unique names\n",
                "\n",
                "\n",
                "# Gets vector of all first names \n",
                "\n",
                "\n",
                "# Creates vector of identified female names.\n",
                "\n",
                "\n",
                "# Creates a boolean vector that tests whether the items in first names are in the identified female name vector\n",
                "is_identified_female \u003c- \n",
                "\n",
                "# Uses is_identified_female to subset the donors dataframe\n",
                "\n",
                "\n",
                "# Uses the inverse of is_identified_female to subset the donors dataframes\n",
                ""
            ]
        },
        {
            "attachments": {},
            "cell_type": "markdown",
            "metadata": {},
            "source": [
                "## Comparing Subsets\n",
                "\n",
                "Now that we've divided our table into two sets, let's compare them.  First, store the two tables you just created in their own variables.  Let's call them identified_male_df and identified_male_df"
            ]
        },
        {
            "cell_type": "code",
            "execution_count": 44,
            "metadata": {},
            "outputs": [],
            "source": [
                "identified_male_df \u003c- \n",
                "identified_female_df \u003c- "
            ]
        },
        {
            "attachments": {},
            "cell_type": "markdown",
            "metadata": {},
            "source": [
                "Finally, calculate the mean of the donations for each of these dataframes.  What does the difference tell you?"
            ]
        },
        {
            "cell_type": "code",
            "execution_count": 45,
            "metadata": {},
            "outputs": [],
            "source": [
                "\n",
                ""
            ]
        }
    ]
}
