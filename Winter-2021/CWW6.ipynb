{
    "metadata": {
        "kernelspec": {
            "name": "ir",
            "display_name": "R",
            "language": "R"
        }
    },
    "nbformat": 4,
    "nbformat_minor": 4,
    "cells": [
        {
            "attachments": {},
            "cell_type": "markdown",
            "metadata": {},
            "source": [
                "# About CWW (Code Writing Worksheet) # 6\n",
                "\n",
                "For this assignment, you'll be working with the same partner as last week.  You can both be in this document at the same time, but only one should write code and run cells. \n",
                "\n",
                "**Instructions:**\n",
                "1. Either your partner or you should use the fork button ![fork button](http://shroutdocs.org/images/DCS204_F2020/fork.png) to make a copy of this workspace. \n",
                "2. Rename your notebook CWW5_LASTNAME_LASTNAME (where the first last name is yours and the second last name is your partners)\n",
                "2. Whoever made the copy should share the workspace with your partner.  NO NEED TO SHARE IT WITH ME.\n",
                "3. Complete your data transcription assignment.  Plan to budget THREE HOURS for this part of the assignment.\n",
                "4. Then complete the code writing portion of this notebook.\n",
                "4. Finally, check to make sure that all of your code and text cells ran correctly, and that there are no extraneous cells. No need to submit anything - I'll begin checking your worksheets after they are due."
            ]
        },
        {
            "attachments": {},
            "cell_type": "markdown",
            "metadata": {},
            "source": [
                "**For this worksheet, one person will be the driver (who writes code) and the other person will be the navigator (who recommends a course of action.  ONLY THE DRIVER SHOULD RUN CELLS - TWO PEOPLE RUNNING CELLS AT THE SAME TIME CAUSES PROBLEMS.**  \n",
                "\n",
                "**For this assignment, swap roles from last week.**"
            ]
        },
        {
            "attachments": {},
            "cell_type": "markdown",
            "metadata": {},
            "source": [
                "Use the space below to identify who was driving (writing code) for this notebook:"
            ]
        },
        {
            "attachments": {},
            "cell_type": "markdown",
            "metadata": {},
            "source": [
                ""
            ]
        },
        {
            "attachments": {},
            "cell_type": "markdown",
            "metadata": {},
            "source": [
                "Use the space below to identify who was navigating (talking through the code and recommending a course of action) for this notebook:"
            ]
        },
        {
            "attachments": {},
            "cell_type": "markdown",
            "metadata": {},
            "source": [
                ""
            ]
        },
        {
            "attachments": {},
            "cell_type": "markdown",
            "metadata": {},
            "source": [
                "## Part 1: Transcriptions\n",
                "\n",
                "This week, the bulk of the code writing worksheet work will be research and transcriptions.  Begin by checking the [DCS204 Coding Partners (Week 5 and 6)](https://docs.google.com/spreadsheets/d/1yMrHzTY5d-jq-0LhZbRcFo1BrQN2-6fACB1EwfQ_jYc/edit?usp=sharing) google doc to see your assigned transcription work.  Use the instructions below.\n",
                "\n",
                "**Plan to spend at least three hours on this work.**\n",
                "\n",
                "**Revise Household Values:**\n",
                "Navigate to the [MSS Donor Bios](https://docs.google.com/spreadsheets/d/1wVTBGB6Joysk-DdX6lLZygPS6GTBAA_rWzTVD0wqdcU/edit?usp=sharing) google doc. Look for your group number in the Assigned column. Watch the [video on using Ancestry to locate your donors in the 1860 census](https://www.youtube.com/watch?v=_n9oLNH3FpQ\u0026feature=youtu.be).  Look up each donor assigned to your group.  For each:\n",
                "* Check whether the data that your colleagues transcribed is correct.\n",
                "* If there is an NA for household value, determine whether the person you are looking up was a member of a family that had a household value (i.e. your donor is a child, but the parent's household value is listed). If so, enter the household value of the family.\n",
                "* If the person is not part of a family that has a household value, enter 0 for household value.\n",
                "\n",
                "**Find New People In the Census:**\n",
                "Navigate to the [Maine State Seminary Donor List](https://docs.google.com/spreadsheets/d/1XME-H2EVxHL6f4XLmmCbAiBEqzJxdaLbfsIRZ5JhhsQ/edit?usp=sharing) google doc.  Find the set of names that you and your partner are tasked to locate. Compare those names with the ledger page. Update any incomplete or mistranscribed names. Check with me if you need help transcribing.\n",
                "Then watch the [video on using Ancestry to locate your donors in the 1860 census](https://www.youtube.com/watch?v=_n9oLNH3FpQ\u0026feature=youtu.be).  Find as many of your assigned donors as you can, and add their demographic information to the google doc.\n",
                "\n",
                "When you come to household value: \n",
                "* If there is an NA for household value, determine whether the person you are looking up was a member of a family that had a household value (i.e. your donor is a child, but the parent's household value is listed). If so, enter the household value of the family.\n",
                "* If the person is not part of a family that has a household value, enter 0 for household value.\n",
                "\n",
                "**Towns:**\n",
                "Begin by going to [this google sheet](https://docs.google.com/spreadsheets/d/1BsjQ5-QoSzJB5fX7JZ5qLKHjuIQK2gcDwkAyckU07KI/edit?usp=sharing), which contains all of the unique location names from our donor data.  Use the [1860 Census write-up on the State of Maine](https://www2.census.gov/library/publications/decennial/1860/population/1860a-17.pdf) as well as the historical atlases of [Antroscoggin](https://archive.org/details/atlashistoryofan00sanf/mode/2up), [Cumberland](https://archive.org/details/historyofcumberl00clay/page/4/mode/2up), [Hancock](https://archive.org/details/surveyofhancockc00wass/page/14/mode/2up), [Kennebec](https://archive.org/details/illustratedhisto00king/page/n11/mode/2up), [Penobscot](https://archive.org/details/historyofpenobsc00will_0), and [Piscatquis](https://archive.org/details/historyofpiscata00lori) to determine: \n",
                "* The county that a town was in.\n",
                "* The population of each locale in Maine in 1860. \n",
                "* The primary industry (if you can determine it). \n",
                "\n",
                "The [Historical Atlas of Maine](https://cbbcat.net/record=b4254145) (held in the Bates library) will also likely be helpful here.\n",
                "\n",
                "**Sites of Labor Exploitation:**\n",
                "I have identified the places that the various companies that sold cotton to the Bates Mill Company operated in.  You can see the file containing the names of companies and their locales [here](https://docs.google.com/document/d/1lrgkBB5LsMsYeexqYbPnxldSevOtBohIwrxOs0_T1kU/edit?usp=sharing).  Each group is assigned 1 locale (some locales span multiple lines).  Use your research time in this CWW to undertake qualitative research about slavery in these spaces.  Document your research in the google doc.  Some possible resources: [\"The Spread of U.S. Slavery](https://lincolnmullen.com/projects/slavery/), [*Slavery in Alabama*](https://ebookcentral.proquest.com/lib/bates/detail.action?docID=1884069), [\"“Mexico in His Head”: Slavery and the Texas-Mexico Border, 1810–1860](https://muse.jhu.edu/article/53039), and [*The Half Has Never Been Told*](https://ebookcentral.proquest.com/lib/bates/detail.action?docID=5368972).  The question that you are aiming to answer with this research is: what additional context might we need to understand the geography of the Bates Mill Company's labor exploitation?\n",
                ""
            ]
        },
        {
            "attachments": {},
            "cell_type": "markdown",
            "metadata": {},
            "source": [
                "## Part 2: Histograms and Density Plots\n",
                "\n",
                "**Begin by reading in the Cotton Purchases data and the locations data.  Look at them. What do they contain?.**"
            ]
        },
        {
            "cell_type": "code",
            "execution_count": 2,
            "metadata": {},
            "outputs": [],
            "source": [
                "purchases \u003c-  read.csv(\"cotton_purchases.csv\")\n",
                "locations \u003c- read.csv(\"cotton_locations.csv\")"
            ]
        },
        {
            "attachments": {},
            "cell_type": "markdown",
            "metadata": {},
            "source": [
                "**Check the names of the columns.**"
            ]
        },
        {
            "cell_type": "code",
            "execution_count": 3,
            "metadata": {},
            "outputs": [],
            "source": [
                ""
            ]
        },
        {
            "attachments": {},
            "cell_type": "markdown",
            "metadata": {},
            "source": [
                "**Create a variable that holds only the total_lbs column.**"
            ]
        },
        {
            "cell_type": "code",
            "execution_count": 4,
            "metadata": {},
            "outputs": [],
            "source": [
                "total_lbs \u003c-"
            ]
        },
        {
            "attachments": {},
            "cell_type": "markdown",
            "metadata": {},
            "source": [
                "**Using the calcuation from Ed Baptist's *The Half Has Never Been Told* (in the 1850s, it took an enslaved person one day to pick 150 lbs of cotton), convert this vector into stolen days.**"
            ]
        },
        {
            "cell_type": "code",
            "execution_count": 5,
            "metadata": {},
            "outputs": [],
            "source": [
                "stolen_days \u003c- "
            ]
        },
        {
            "attachments": {},
            "cell_type": "markdown",
            "metadata": {},
            "source": [
                "**Create a histogram of the stolen days vector.  Make sure to use color, an x axis lable and a chart title.  Then, use the text cell below to explain your design decisions in light of Yau's advice.**"
            ]
        },
        {
            "cell_type": "code",
            "execution_count": 6,
            "metadata": {},
            "outputs": [],
            "source": [
                ""
            ]
        },
        {
            "attachments": {},
            "cell_type": "markdown",
            "metadata": {},
            "source": [
                ""
            ]
        },
        {
            "attachments": {},
            "cell_type": "markdown",
            "metadata": {},
            "source": [
                "**Read the cell below and comment each line of code.**"
            ]
        },
        {
            "cell_type": "code",
            "execution_count": 7,
            "metadata": {},
            "outputs": [],
            "source": [
                "stolen_days\n",
                "stolen_days_num \u003c- stolen_days[!is.na(stolen_days)]\n",
                "stolen_days_num"
            ]
        },
        {
            "attachments": {},
            "cell_type": "markdown",
            "metadata": {},
            "source": [
                "**Use the stolen_days_num vector to produce a density plot. Then, use the text cell below to explain your design decisions in light of Yau's advice.**"
            ]
        },
        {
            "cell_type": "code",
            "execution_count": 8,
            "metadata": {},
            "outputs": [],
            "source": [
                ""
            ]
        },
        {
            "attachments": {},
            "cell_type": "markdown",
            "metadata": {},
            "source": [
                "## Part 3: Scatterplots\n",
                "\n",
                "**Let's go back to the purchases data.  It is really messy. Create a dataframe called purchases_subset that only contains the the num_bales, price_per_lb and puchsaed_by columns.**"
            ]
        },
        {
            "cell_type": "code",
            "execution_count": 11,
            "metadata": {},
            "outputs": [],
            "source": [
                "purchases_subset \u003c- "
            ]
        },
        {
            "attachments": {},
            "cell_type": "markdown",
            "metadata": {},
            "source": [
                "**Drop all of the rows that contain NA in any of the columns.**"
            ]
        },
        {
            "cell_type": "code",
            "execution_count": 14,
            "metadata": {},
            "outputs": [],
            "source": [
                ""
            ]
        },
        {
            "attachments": {},
            "cell_type": "markdown",
            "metadata": {},
            "source": [
                "**Comment the code below.**"
            ]
        },
        {
            "cell_type": "code",
            "execution_count": 41,
            "metadata": {},
            "outputs": [],
            "source": [
                "#\n",
                "col_vector \u003c- rainbow(13)\n",
                "\n",
                "#\n",
                "purchases_subset$purchased_by_cols \u003c- \"\"\n",
                "\n",
                "#\n",
                "for(r in 1:nrow(purchases_subset)) {\n",
                "    #\n",
                "    purchased_by \u003c- purchases_subset$purchased_by[r]\n",
                "    #\n",
                "    if(purchased_by == \"H.J. Hall \u0026 J.A. Deblois\") {\n",
                "        purchases_subset$purchased_by_cols[r] \u003c- col_vector[1]\n",
                "    } else if(purchased_by == \"J. S. Coffin\") {\n",
                "        purchases_subset$purchased_by_cols[r] \u003c- col_vector[2]\n",
                "    } else if(purchased_by == \"Pierce \u0026 Bacon\") {\n",
                "        purchases_subset$purchased_by_cols[r] \u003c- col_vector[3]\n",
                "    } else if(purchased_by == \"Dryer \u0026 Abbott\") {\n",
                "        purchases_subset$purchased_by_cols[r] \u003c- col_vector[4]\n",
                "    } else if(purchased_by == \"Goddard \u0026 Prichard\") {\n",
                "        purchases_subset$purchased_by_cols[r] \u003c- col_vector[5]\n",
                "    } else if(purchased_by == \"J. Beebe \u0026 Co.\") {\n",
                "        purchases_subset$purchased_by_cols[r] \u003c- col_vector[6]\n",
                "    } else if(purchased_by == \"Jas. B. Ames \u0026 Co.\") {\n",
                "        purchases_subset$purchased_by_cols[r] \u003c- col_vector[7]\n",
                "    } else if(purchased_by == \"Fisher \u0026 Co.\") {\n",
                "        purchases_subset$purchased_by_cols[r] \u003c- col_vector[8]\n",
                "    } else if(purchased_by == \"Jas. A. Hooper\") {\n",
                "        purchases_subset$purchased_by_cols[r] \u003c- col_vector[9]\n",
                "    } else if(purchased_by == \"Gardner \u0026 Coolidge\") {\n",
                "        purchases_subset$purchased_by_cols[r] \u003c- col_vector[10]\n",
                "    } else if(purchased_by == \"Wright \u0026 Whitman\") {\n",
                "        purchases_subset$purchased_by_cols[r] \u003c- col_vector[11]\n",
                "    } else if(purchased_by == \"Dwight \u0026 Co.\") {\n",
                "        purchases_subset$purchased_by_cols[r] \u003c- col_vector[12]\n",
                "    } else if(purchased_by == \"Bardwell \u0026 Co.\") {\n",
                "        purchases_subset$purchased_by_cols[r] \u003c- col_vector[13]\n",
                "    } \n",
                "}"
            ]
        },
        {
            "attachments": {},
            "cell_type": "markdown",
            "metadata": {},
            "source": [
                "**Adapt the code below to produce a scatterplot showing the relationship between the number of bales and the price per bale.  Make sure to include a chart label, axis labels, to color your points according to the purchaser, and to include a legend.Explain your design decisions in the text cell below.**\n",
                "\n",
                "**Comment the code as you go.**"
            ]
        },
        {
            "cell_type": "code",
            "execution_count": 43,
            "metadata": {},
            "outputs": [],
            "source": [
                "plot(,\n",
                "xlab = ,\n",
                "ylab = ,\n",
                "xlim = ,\n",
                "ylim = ,\n",
                "main = ,\n",
                "pch = ,\n",
                "grid(NULL, NULL),\n",
                "col = purchases_subset$purchased_by_cols)\n",
                "\n",
                "legend(\"bottomright\", legend = unique(purchases_subset$purchased_by),\n",
                "fill = c(col_vector[1], col_vector[2], col_vector[3], col_vector[4], col_vector[5], col_vector[6], col_vector[7], col_vector[8], col_vector[9], col_vector[10], col_vector[11], col_vector[12], col_vector[13])\n",
                ")"
            ]
        },
        {
            "attachments": {},
            "cell_type": "markdown",
            "metadata": {},
            "source": [
                ""
            ]
        },
        {
            "attachments": {},
            "cell_type": "markdown",
            "metadata": {},
            "source": [
                "## Part 4: Heatmaps\n",
                "\n",
                "**First, merge the purchases_subset dataframe with the locations dataframe. Use purchased_by column from the purchases_subset dataframe and the purchaser column from the locations dataframe to complete the merge.**\n",
                "\n",
                "**Store the merge in a variable called purchases_locations.**"
            ]
        },
        {
            "cell_type": "code",
            "execution_count": 45,
            "metadata": {},
            "outputs": [],
            "source": [
                "purchases_locations \u003c- "
            ]
        },
        {
            "attachments": {},
            "cell_type": "markdown",
            "metadata": {},
            "source": [
                "**Check the new dataframe**"
            ]
        },
        {
            "cell_type": "code",
            "execution_count": 46,
            "metadata": {},
            "outputs": [],
            "source": [
                ""
            ]
        },
        {
            "attachments": {},
            "cell_type": "markdown",
            "metadata": {},
            "source": [
                "**Produce a heatmap of the relationship between purchasers and purchase state.  Select a color scheme, add a legend and add a chart title.  Make sure the dendrograms are not visible. Explain the decisions that you made in the text cell below.**"
            ]
        },
        {
            "cell_type": "code",
            "execution_count": 47,
            "metadata": {},
            "outputs": [],
            "source": [
                "purchasers_month_tbl \u003c- table( , )\n",
                "heatmap(purchasers_month_tbl,\n",
                "Rowv = NA,\n",
                "Colv = NA, \n",
                "col = )\n",
                "\n",
                "legend(\"bottomright\" ,\n",
                "legend = c(\"min\", \"avg\", \"max\"),\n",
                "fill = )\n",
                ""
            ]
        }
    ]
}
